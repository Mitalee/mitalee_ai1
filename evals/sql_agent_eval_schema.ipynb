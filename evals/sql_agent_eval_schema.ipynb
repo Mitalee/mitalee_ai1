{
 "cells": [
  {
   "cell_type": "code",
   "execution_count": 17,
   "id": "50210636-6da1-461e-977c-c5d590ff1323",
   "metadata": {},
   "outputs": [
    {
     "data": {
      "text/plain": [
       "True"
      ]
     },
     "execution_count": 17,
     "metadata": {},
     "output_type": "execute_result"
    }
   ],
   "source": [
    "import pandas as pd\n",
    "import sqlite3\n",
    "import openai\n",
    "# import json\n",
    "import os\n",
    "# from datetime import datetime\n",
    "from dotenv import load_dotenv\n",
    "\n",
    "# Load the environment variables\n",
    "load_dotenv()"
   ]
  },
  {
   "cell_type": "code",
   "execution_count": 19,
   "id": "e6321839-3bcb-417d-8f8e-767442a70e92",
   "metadata": {},
   "outputs": [],
   "source": [
    "# Load your OpenAI API key\n",
    "openai.api_key = os.getenv(\"OPENAI_API_KEY\")\n",
    "# print(openai.api_key)"
   ]
  },
  {
   "cell_type": "code",
   "execution_count": 14,
   "id": "f5f3a6ea-6f2c-4315-85b4-0667c0f071a4",
   "metadata": {},
   "outputs": [],
   "source": [
    "# Create SQLite in-memory DB or file-based\n",
    "conn = sqlite3.connect('orders.db')  # or use ':memory:' for temporary in-memory DB"
   ]
  },
  {
   "cell_type": "code",
   "execution_count": 6,
   "id": "ca28e083-bfe8-494c-bb06-1946068a6a01",
   "metadata": {},
   "outputs": [
    {
     "data": {
      "text/html": [
       "<div>\n",
       "<style scoped>\n",
       "    .dataframe tbody tr th:only-of-type {\n",
       "        vertical-align: middle;\n",
       "    }\n",
       "\n",
       "    .dataframe tbody tr th {\n",
       "        vertical-align: top;\n",
       "    }\n",
       "\n",
       "    .dataframe thead th {\n",
       "        text-align: right;\n",
       "    }\n",
       "</style>\n",
       "<table border=\"1\" class=\"dataframe\">\n",
       "  <thead>\n",
       "    <tr style=\"text-align: right;\">\n",
       "      <th></th>\n",
       "      <th>Transaction Type</th>\n",
       "    </tr>\n",
       "  </thead>\n",
       "  <tbody>\n",
       "    <tr>\n",
       "      <th>0</th>\n",
       "      <td>Shipment</td>\n",
       "    </tr>\n",
       "    <tr>\n",
       "      <th>1</th>\n",
       "      <td>Cancel</td>\n",
       "    </tr>\n",
       "    <tr>\n",
       "      <th>2</th>\n",
       "      <td>Refund</td>\n",
       "    </tr>\n",
       "    <tr>\n",
       "      <th>3</th>\n",
       "      <td>FreeReplacement</td>\n",
       "    </tr>\n",
       "  </tbody>\n",
       "</table>\n",
       "</div>"
      ],
      "text/plain": [
       "  Transaction Type\n",
       "0         Shipment\n",
       "1           Cancel\n",
       "2           Refund\n",
       "3  FreeReplacement"
      ]
     },
     "execution_count": 6,
     "metadata": {},
     "output_type": "execute_result"
    }
   ],
   "source": [
    "pd.read_sql_query(\"SELECT DISTINCT `Transaction Type` FROM orders\", conn)"
   ]
  },
  {
   "cell_type": "code",
   "execution_count": 7,
   "id": "7990618f-6fca-4c1d-81cd-5e46cd26ca67",
   "metadata": {},
   "outputs": [],
   "source": [
    "DATABASE_SCHEMA = \"\"\"Here are the columns of the database table 'orders':\n",
    "\n",
    "['Seller Gstin', 'Invoice Number', 'Invoice Date', 'Transaction Type',\n",
    "       'Order Id', 'Shipment Id', 'Shipment Date', 'Order Date',\n",
    "       'Shipment Item Id', 'Quantity', 'Item Description', 'Asin', 'Hsn/sac',\n",
    "       'Sku', 'Product Tax Code', 'Bill From City', 'Bill From State',\n",
    "       'Bill From Country', 'Bill From Postal Code', 'Ship From City',\n",
    "       'Ship From State', 'Ship From Country', 'Ship From Postal Code',\n",
    "       'Ship To City', 'Ship To State', 'Ship To Country',\n",
    "       'Ship To Postal Code', 'Invoice Amount', 'Tax Exclusive Gross',\n",
    "       'Total Tax Amount', 'Cgst Rate', 'Sgst Rate', 'Utgst Rate', 'Igst Rate',\n",
    "       'Compensatory Cess Rate', 'Principal Amount', 'Principal Amount Basis',\n",
    "       'Cgst Tax', 'Sgst Tax', 'Igst Tax', 'Utgst Tax',\n",
    "       'Compensatory Cess Tax', 'Shipping Amount', 'Shipping Amount Basis',\n",
    "       'Shipping Cgst Tax', 'Shipping Sgst Tax', 'Shipping Utgst Tax',\n",
    "       'Shipping Igst Tax', 'Shipping Cess Tax Amount', 'Gift Wrap Amount',\n",
    "       'Gift Wrap Amount Basis', 'Gift Wrap Cgst Tax', 'Gift Wrap Sgst Tax',\n",
    "       'Gift Wrap Utgst Tax', 'Gift Wrap Igst Tax',\n",
    "       'Gift Wrap Compensatory Cess Tax', 'Item Promo Discount',\n",
    "       'Item Promo Discount Basis', 'Item Promo Tax',\n",
    "       'Shipping Promo Discount', 'Shipping Promo Discount Basis',\n",
    "       'Shipping Promo Tax', 'Gift Wrap Promo Discount',\n",
    "       'Gift Wrap Promo Discount Basis', 'Gift Wrap Promo Tax',\n",
    "       'Tcs Cgst Rate', 'Tcs Cgst Amount', 'Tcs Sgst Rate', 'Tcs Sgst Amount',\n",
    "       'Tcs Utgst Rate', 'Tcs Utgst Amount', 'Tcs Igst Rate',\n",
    "       'Tcs Igst Amount', 'Warehouse Id', 'Fulfillment Channel',\n",
    "       'Payment Method Code', 'Credit Note No', 'Credit Note Date']\n",
    "\"\"\""
   ]
  },
  {
   "cell_type": "code",
   "execution_count": 46,
   "id": "4b88e655-5dff-4850-b75a-b3bde0c43947",
   "metadata": {},
   "outputs": [],
   "source": [
    "# Function to generate business logic\n",
    "def get_business_logic(question):\n",
    "    system_prompt = f\"\"\"\n",
    "You are a business analyst assistant.\n",
    "\n",
    "Schema:\n",
    "{DATABASE_SCHEMA}\n",
    "\n",
    "Instructions:\n",
    "1. Do NOT write SQL.\n",
    "2. Convert the question into step-by-step business logic.\n",
    "3. Include filters, joins, or groupings as needed.\n",
    "4. Format your output as a clearly numbered list, one step per line.\n",
    "\n",
    "In response to the question asked by the user, return the business logic steps in plain English.\n",
    "\"\"\"\n",
    "    response = openai.chat.completions.create(\n",
    "    model=\"gpt-4\",\n",
    "    messages = [\n",
    "        {\"role\": \"system\", \"content\": system_prompt},\n",
    "        {\"role\": \"user\", \"content\": question}\n",
    "    ]\n",
    "\n",
    "    )\n",
    "    # print(f\"response: {response}\")\n",
    "    logic = response.choices[0].message.content\n",
    "    # print(\"Business Logic:\\n\", logic)\n",
    "    return logic\n",
    "    # return response"
   ]
  },
  {
   "cell_type": "code",
   "execution_count": 41,
   "id": "fbdf9d3f-60ca-4d67-89cf-e82a08ce363b",
   "metadata": {},
   "outputs": [
    {
     "name": "stdout",
     "output_type": "stream",
     "text": [
      "response: ChatCompletion(id='chatcmpl-BU9xea5jrGcxbqahsQHdKfT7F9aYd', choices=[Choice(finish_reason='stop', index=0, logprobs=None, message=ChatCompletionMessage(content=\"1. Select the 'orders' table.\\n2. Filter the records where 'Order Date' falls within the month of August. This can be done by checking whether the month part of the 'Order Date' is August.\\n3. After this filter, select the 'Invoice Amount' column.\\n4. Sum up over all the values of 'Invoice Amount'. This will give us the total amount of orders in August.\", refusal=None, role='assistant', audio=None, function_call=None, tool_calls=None, annotations=[]))], created=1746527830, model='gpt-4-0613', object='chat.completion', service_tier='default', system_fingerprint=None, usage=CompletionUsage(completion_tokens=85, prompt_tokens=567, total_tokens=652, completion_tokens_details=CompletionTokensDetails(accepted_prediction_tokens=0, audio_tokens=0, reasoning_tokens=0, rejected_prediction_tokens=0), prompt_tokens_details=PromptTokensDetails(audio_tokens=0, cached_tokens=0)))\n",
      "Business Logic:\n",
      " 1. Select the 'orders' table.\n",
      "2. Filter the records where 'Order Date' falls within the month of August. This can be done by checking whether the month part of the 'Order Date' is August.\n",
      "3. After this filter, select the 'Invoice Amount' column.\n",
      "4. Sum up over all the values of 'Invoice Amount'. This will give us the total amount of orders in August.\n"
     ]
    }
   ],
   "source": [
    "# Ask a question\n",
    "r = get_business_logic(\"What is the total amount of orders in August?\")"
   ]
  },
  {
   "cell_type": "code",
   "execution_count": 43,
   "id": "4e0c60b7-4222-421c-986b-d890a7d640b5",
   "metadata": {},
   "outputs": [],
   "source": [
    "# r.__dict__"
   ]
  },
  {
   "cell_type": "code",
   "execution_count": 44,
   "id": "44ada1c1-899b-40c0-bfc5-606b02a974ab",
   "metadata": {},
   "outputs": [],
   "source": [
    "# Load questions\n",
    "df = pd.read_csv(\"questions.csv\")  # expects a column called 'question'"
   ]
  },
  {
   "cell_type": "code",
   "execution_count": 47,
   "id": "3a0db8bb-6f20-4ece-b25a-1e289974327f",
   "metadata": {},
   "outputs": [
    {
     "name": "stdout",
     "output_type": "stream",
     "text": [
      "\n",
      "\u001b[1mQuestion 1:\u001b[0m How many orders did I have in November 2021\n",
      "\n",
      "1. Start with the 'orders' table.\n",
      "2. Apply filter on the 'Order Date' column, to include only the dates that fall in the month of November 2021.\n",
      "3. Count the number of unique 'Order Id' values in the filtered table. Each unique 'Order Id' corresponds to an individual order.\n",
      "4. The final count will represent the total number of orders in November 2021.\n",
      "\n",
      "--------------------------------------------------------------------------------\n",
      "\n",
      "\u001b[1mQuestion 2:\u001b[0m How many orders got refunded\n",
      "\n",
      "1. Start by identifying the relevant column(s) or variable(s) in the dataset which marks an order as refunded.\n",
      "2. It is likely that refunded orders would be reflected under the 'Transaction Type' column if such order statuses are recorded in the dataset. Alternatively, there could be a 'Payment Method Code' or 'Credit Note No' relevant for this purpose.\n",
      "3. Filter the dataset where 'Transaction Type' equals 'Refund' or where 'Credit Note No' is not null, or where any other indicator of a refund is observed.\n",
      "4. After applying the filter, count the number of unique 'Order Id' in the resulting set, as each unique 'Order Id' should represent a distinct order.\n",
      "5. The result of this count operation will provide the total number of orders that have been refunded.\n",
      "\n",
      "--------------------------------------------------------------------------------\n",
      "\n",
      "\u001b[1mQuestion 3:\u001b[0m How many orders got cancelled\n",
      "\n",
      "1. Start by identifying the appropriate column in the 'orders' table that could indicate an order status or cancellation. This would typically be the 'Transaction Type' column, where cancellations would be something like 'Cancelled' or similar. Since no such column is mentioned, we can't determine the cancelled orders.\n",
      "2. Without this information, it's impossible to provide direct business logic for determining cancelled orders.\n",
      "\n",
      "Note: The schema provided does not contain an order status indicator. Kindly provide a table schema with an order status column to provide the proper business logic.\n",
      "\n",
      "--------------------------------------------------------------------------------\n",
      "\n",
      "\u001b[1mQuestion 4:\u001b[0m How many orders did we ship\n",
      "\n",
      "1. Start by accessing the 'orders' database table.\n",
      "2. Specifically look at the 'Shipment Id' column in the order table.\n",
      "3. Count the number of unique values in the 'Shipment Id' column.This count represents the total number of shipments (or shipped orders). If a shipment ID repeats, it means multiple items from the same order might have been shipped in different packages. Thus, we consider unique shipment IDs.\n",
      "4. Return this count value. This is the total number of orders we shipped.\n",
      "\n",
      "--------------------------------------------------------------------------------\n",
      "\n",
      "\u001b[1mQuestion 5:\u001b[0m Total how many different products were shipped\n",
      "\n",
      "1. Start by selecting the 'Shipment Item Id' column from the 'orders' table. This column represents the unique ID for each item shipped.\n",
      "\n",
      "2. Filter the rows where the 'Shipment Date' is not null, which means that only the products that have been shipped are included.\n",
      "\n",
      "3. Use the distinct function on the 'Shipment Item Id' column to remove any duplicate entries, as we are only interested in individual, distinct products.\n",
      "\n",
      "4. Count the number of distinct 'Shipment Item Id' entries; this will give us the total number of different products that have been shipped.\n",
      "\n",
      "--------------------------------------------------------------------------------\n",
      "\n",
      "\u001b[1mQuestion 6:\u001b[0m How many replacements did we have to give\n",
      "\n",
      "1. Identify the 'Transaction Type' column from the 'orders' table.\n",
      "2. Filter the entries in 'Transaction Type' column to only display those labeled as 'Replacement'.\n",
      "3. Count the number of rows remaining after filtering which will be the total number of replacements given.\n",
      "\n",
      "\n",
      "--------------------------------------------------------------------------------\n",
      "\n",
      "\u001b[1mQuestion 7:\u001b[0m Which was the SKU causing maximum replacements\n",
      "\n",
      "1. Filter the 'Transaction Type' column to only include 'REPLACEMENT'.\n",
      "2. Count each occurrence of 'Sku' in these filtered records.\n",
      "3. Sort these counts in descending order.\n",
      "4. The 'Sku' with the highest count will be the one causing the maximum replacements. Return this 'Sku'.\n",
      "\n",
      "--------------------------------------------------------------------------------\n",
      "\n",
      "\u001b[1mQuestion 8:\u001b[0m which was the second highest SKU causing maximum replacements\n",
      "\n",
      "1. Define a replacement order based on the 'Transaction Type' field (it should be marked as 'Replacement').\n",
      "2. Filter the 'orders' table where 'Transaction Type' equals 'Replacement'.\n",
      "3. Group the filtered data by 'Sku'.\n",
      "4. Within each group, count the total number of replacements, i.e., count the number of rows.\n",
      "5. Sort the groups by the count in descending order.\n",
      "6. After sorting, select the second group from the top. This group corresponds to the SKU that caused the second highest number of replacements.\n",
      "\n",
      "--------------------------------------------------------------------------------\n",
      "\n",
      "\u001b[1mQuestion 9:\u001b[0m top 5 refunded items\n",
      "\n",
      "1. Filter the 'orders' table to only include rows where the 'Transaction Type' is 'Refund'. This will give us only the transactions that were refunded.\n",
      "\n",
      "2. Group the filtered data by 'Item Description' or 'Asin' or 'Sku' (depending on which represents the unique item in the dataset).\n",
      "\n",
      "3. For each group in step 2, count the number of rows (i.e., the number of times each item was refunded).\n",
      "\n",
      "4. Sort the counts from step 3 in descending order.\n",
      "\n",
      "5. Select the top 5 items from the sorted list in step 4. These represent the top 5 refunded items.\n",
      "\n",
      "--------------------------------------------------------------------------------\n",
      "\n",
      "\u001b[1mQuestion 10:\u001b[0m What was my top selling item\n",
      "\n",
      "1. Start by selecting the 'Item Description', 'Quantity' and 'Order Id' from the 'orders' table.\n",
      "2. Group the data by 'Item Description'.\n",
      "3. For each group, sum the 'Quantity' to get the total quantity sold for each item.\n",
      "4. Sort the grouped data by the total quantity sold in descending order.\n",
      "5. The top selling item will be at the top of the sorted list, as it would have the highest total quantity sold. Select this item and its quantity.\n",
      "6. Return the item description and the quantity sold of the top selling item.\n",
      "\n",
      "--------------------------------------------------------------------------------\n"
     ]
    }
   ],
   "source": [
    "# Use only the first 2 rows\n",
    "# test_df = df.head(2)\n",
    "\n",
    "# Iterate and print nicely\n",
    "for i, row in df.iterrows():\n",
    "    question = row[\"question\"]\n",
    "    logic = get_business_logic(question)\n",
    "\n",
    "    print(f\"\\n\\033[1mQuestion {i+1}:\\033[0m {question}\\n\")\n",
    "    for line in logic.split(\"\\n\"):\n",
    "        print(line.strip())\n",
    "    print(\"\\n\" + \"-\" * 80)"
   ]
  },
  {
   "cell_type": "code",
   "execution_count": null,
   "id": "068c5908-29a8-43a2-a162-407410799ce4",
   "metadata": {},
   "outputs": [],
   "source": []
  }
 ],
 "metadata": {
  "kernelspec": {
   "display_name": "Python (cenv)",
   "language": "python",
   "name": "cenv"
  },
  "language_info": {
   "codemirror_mode": {
    "name": "ipython",
    "version": 3
   },
   "file_extension": ".py",
   "mimetype": "text/x-python",
   "name": "python",
   "nbconvert_exporter": "python",
   "pygments_lexer": "ipython3",
   "version": "3.12.8"
  }
 },
 "nbformat": 4,
 "nbformat_minor": 5
}
