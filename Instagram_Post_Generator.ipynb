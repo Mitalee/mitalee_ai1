{
 "cells": [
  {
   "cell_type": "code",
   "execution_count": null,
   "id": "59f11786-ca0b-462c-83f0-8d17361d7364",
   "metadata": {},
   "outputs": [],
   "source": [
    "!pip install crewai-tools\n",
    "!pip install crewai"
   ]
  },
  {
   "cell_type": "code",
   "execution_count": 2,
   "id": "b986e8b8-6228-419d-9b30-44da0c8a0ea0",
   "metadata": {},
   "outputs": [],
   "source": [
    "# Warning control\n",
    "import warnings\n",
    "warnings.filterwarnings('ignore')"
   ]
  },
  {
   "cell_type": "code",
   "execution_count": null,
   "id": "d360e1c9-6f50-4bb5-b071-420b8155f5d6",
   "metadata": {},
   "outputs": [],
   "source": [
    "from crewai import Agent, Crew, Task"
   ]
  },
  {
   "cell_type": "code",
   "execution_count": null,
   "id": "09361c61-e9a3-4fc9-8414-0f1138a06499",
   "metadata": {},
   "outputs": [],
   "source": [
    "import os\n",
    "# from utils import get_openai_api_key#,get_serper_api_key\n",
    "\n",
    "# openai_api_key = get_openai_api_key()\n",
    "openai_api_key = ''`\n",
    "os.environ[\"OPENAI_MODEL_NAME\"] = 'gpt-3.5-turbo'\n",
    "os.environ[\"SERPER_API_KEY\"] = get_serper_api_key()"
   ]
  },
  {
   "cell_type": "code",
   "execution_count": null,
   "id": "75db02fd-24cd-4ffb-998d-de9bbdbb6fac",
   "metadata": {},
   "outputs": [],
   "source": [
    "from crewai_tools import DallETool"
   ]
  },
  {
   "cell_type": "code",
   "execution_count": null,
   "id": "0c41723a-6dbb-4493-a831-82b94126d21b",
   "metadata": {},
   "outputs": [],
   "source": [
    "# Agent 1: Instagram post designer\n",
    "instagram_designer = Agent(\n",
    "    role=\"Instagram Post Designer\",\n",
    "    goal=\"Design an instagram post \"\n",
    "    \"based on market pain points and solutions from the product\",\n",
    "    tools=[DallETool],\n",
    "    verbose=True,\n",
    "    backstory=(\n",
    "        \"With a keen sense of product features \"\n",
    "        \"and comparing between Microsoft Lists, Airtable and Monday.com, \"\n",
    "        \"especially in their current capabilities \"\n",
    "        \"with Microsoft Lists coming out on top each time \"\n",
    "        \"with its platform capabilities, extensibility and volume\"\n",
    "    )\n",
    ")"
   ]
  },
  {
   "cell_type": "code",
   "execution_count": null,
   "id": "e3934f14-2ddb-4399-b060-48cfec6d058c",
   "metadata": {},
   "outputs": [],
   "source": [
    "# Task 1: Instagram Post\n",
    "design_task = Task(\n",
    "    description=(\"Design an instagram post for {event_topic}\"),\n",
    "    expected_output=\"A well-designed image for instagram \",\n",
    "    agent=instagram_designer\n",
    ")"
   ]
  },
  {
   "cell_type": "code",
   "execution_count": null,
   "id": "e1a6d69d-c1d3-4f44-9bfa-205724fa84cc",
   "metadata": {},
   "outputs": [],
   "source": [
    "crew = Crew(\n",
    "    agents=[instagram_designer],\n",
    "    tasks=[design_task],\n",
    "    verbose=2\n",
    ")"
   ]
  },
  {
   "cell_type": "code",
   "execution_count": null,
   "id": "64e3322b-2ac9-4d15-b3e4-d182b8e34146",
   "metadata": {},
   "outputs": [],
   "source": [
    "topic = \"YOUR TOPIC HERE\"\n",
    "result = crew.kickoff(inputs={\"topic\": topic})"
   ]
  }
 ],
 "metadata": {
  "kernelspec": {
   "display_name": "Python 3 (ipykernel)",
   "language": "python",
   "name": "python3"
  },
  "language_info": {
   "codemirror_mode": {
    "name": "ipython",
    "version": 3
   },
   "file_extension": ".py",
   "mimetype": "text/x-python",
   "name": "python",
   "nbconvert_exporter": "python",
   "pygments_lexer": "ipython3",
   "version": "3.11.9"
  }
 },
 "nbformat": 4,
 "nbformat_minor": 5
}
