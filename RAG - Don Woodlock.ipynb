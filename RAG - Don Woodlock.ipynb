{
 "cells": [
  {
   "cell_type": "markdown",
   "id": "4835387b-bf96-4281-8bc6-36eda3f84079",
   "metadata": {},
   "source": [
    "# https://www.youtube.com/watch?v=P8tOjiYEFqU"
   ]
  },
  {
   "cell_type": "code",
   "execution_count": 5,
   "id": "85fb0db8-1e75-490a-9b1c-35fb6fc8c5e6",
   "metadata": {},
   "outputs": [],
   "source": [
    "import pandas as pd\n",
    "from openai import OpenAI\n",
    "import os\n",
    "import ast\n",
    "import numpy as np\n",
    "import pdb"
   ]
  },
  {
   "cell_type": "code",
   "execution_count": 6,
   "id": "d66d1543-b326-4a0e-aba3-ff65e27c6ae4",
   "metadata": {},
   "outputs": [
    {
     "ename": "OpenAIError",
     "evalue": "The api_key client option must be set either by passing api_key to the client or by setting the OPENAI_API_KEY environment variable",
     "output_type": "error",
     "traceback": [
      "\u001b[0;31m---------------------------------------------------------------------------\u001b[0m",
      "\u001b[0;31mOpenAIError\u001b[0m                               Traceback (most recent call last)",
      "Cell \u001b[0;32mIn[6], line 1\u001b[0m\n\u001b[0;32m----> 1\u001b[0m client \u001b[38;5;241m=\u001b[39m \u001b[43mOpenAI\u001b[49m\u001b[43m(\u001b[49m\u001b[43m)\u001b[49m\n",
      "File \u001b[0;32m~/Documents/projects/chatgpt/cenv/lib/python3.12/site-packages/openai/_client.py:110\u001b[0m, in \u001b[0;36mOpenAI.__init__\u001b[0;34m(self, api_key, organization, project, base_url, websocket_base_url, timeout, max_retries, default_headers, default_query, http_client, _strict_response_validation)\u001b[0m\n\u001b[1;32m    108\u001b[0m     api_key \u001b[38;5;241m=\u001b[39m os\u001b[38;5;241m.\u001b[39menviron\u001b[38;5;241m.\u001b[39mget(\u001b[38;5;124m\"\u001b[39m\u001b[38;5;124mOPENAI_API_KEY\u001b[39m\u001b[38;5;124m\"\u001b[39m)\n\u001b[1;32m    109\u001b[0m \u001b[38;5;28;01mif\u001b[39;00m api_key \u001b[38;5;129;01mis\u001b[39;00m \u001b[38;5;28;01mNone\u001b[39;00m:\n\u001b[0;32m--> 110\u001b[0m     \u001b[38;5;28;01mraise\u001b[39;00m OpenAIError(\n\u001b[1;32m    111\u001b[0m         \u001b[38;5;124m\"\u001b[39m\u001b[38;5;124mThe api_key client option must be set either by passing api_key to the client or by setting the OPENAI_API_KEY environment variable\u001b[39m\u001b[38;5;124m\"\u001b[39m\n\u001b[1;32m    112\u001b[0m     )\n\u001b[1;32m    113\u001b[0m \u001b[38;5;28mself\u001b[39m\u001b[38;5;241m.\u001b[39mapi_key \u001b[38;5;241m=\u001b[39m api_key\n\u001b[1;32m    115\u001b[0m \u001b[38;5;28;01mif\u001b[39;00m organization \u001b[38;5;129;01mis\u001b[39;00m \u001b[38;5;28;01mNone\u001b[39;00m:\n",
      "\u001b[0;31mOpenAIError\u001b[0m: The api_key client option must be set either by passing api_key to the client or by setting the OPENAI_API_KEY environment variable"
     ]
    }
   ],
   "source": [
    "client = OpenAI()"
   ]
  },
  {
   "cell_type": "code",
   "execution_count": null,
   "id": "096bf323-468c-41ea-a34d-fa45914f86b4",
   "metadata": {},
   "outputs": [],
   "source": [
    "question = \"What temperature do i set my house on Vacation so the pipes don't freeze\"\n",
    "question"
   ]
  },
  {
   "cell_type": "code",
   "execution_count": 4,
   "id": "c7728b72-57c2-4ecc-98d4-3f8f6c0d695e",
   "metadata": {},
   "outputs": [
    {
     "ename": "NameError",
     "evalue": "name 'client' is not defined",
     "output_type": "error",
     "traceback": [
      "\u001b[0;31m---------------------------------------------------------------------------\u001b[0m",
      "\u001b[0;31mNameError\u001b[0m                                 Traceback (most recent call last)",
      "Cell \u001b[0;32mIn[4], line 1\u001b[0m\n\u001b[0;32m----> 1\u001b[0m response \u001b[38;5;241m=\u001b[39m \u001b[43mclient\u001b[49m\u001b[38;5;241m.\u001b[39mchat\u001b[38;5;241m.\u001b[39mcompletions\u001b[38;5;241m.\u001b[39mcreate(\n\u001b[1;32m      2\u001b[0m     model\u001b[38;5;241m=\u001b[39m\u001b[38;5;124m\"\u001b[39m\u001b[38;5;124mgpt-3.5-turbo\u001b[39m\u001b[38;5;124m\"\u001b[39m,\n\u001b[1;32m      3\u001b[0m     message\u001b[38;5;241m=\u001b[39m[\n\u001b[1;32m      4\u001b[0m         {\n\u001b[1;32m      5\u001b[0m             \u001b[38;5;124m\"\u001b[39m\u001b[38;5;124mrole\u001b[39m\u001b[38;5;124m\"\u001b[39m:\u001b[38;5;124m\"\u001b[39m\u001b[38;5;124muser\u001b[39m\u001b[38;5;124m\"\u001b[39m,\n\u001b[1;32m      6\u001b[0m             \u001b[38;5;124m\"\u001b[39m\u001b[38;5;124mcontent\u001b[39m\u001b[38;5;124m\"\u001b[39m:question\n\u001b[1;32m      7\u001b[0m         }\n\u001b[1;32m      8\u001b[0m     ]\n\u001b[1;32m      9\u001b[0m )\n",
      "\u001b[0;31mNameError\u001b[0m: name 'client' is not defined"
     ]
    }
   ],
   "source": [
    "response = client.chat.completions.create(\n",
    "    model=\"gpt-3.5-turbo\",\n",
    "    message=[\n",
    "        {\n",
    "            \"role\":\"user\",\n",
    "            \"content\":question\n",
    "        }\n",
    "    ]\n",
    ")\n",
    "response"
   ]
  },
  {
   "cell_type": "code",
   "execution_count": null,
   "id": "38f83bf9-3f56-4f74-bb16-ae713adc5191",
   "metadata": {},
   "outputs": [],
   "source": [
    "response.choices[0].message.content"
   ]
  },
  {
   "cell_type": "markdown",
   "id": "1d2aa9a9-75c2-4e00-9164-ae99d8d0376d",
   "metadata": {},
   "source": [
    "# Now we will add Retrieval Augmented Generation"
   ]
  },
  {
   "cell_type": "markdown",
   "id": "2d625530-a26a-439c-9ef8-c0dbf2ebf0fd",
   "metadata": {},
   "source": [
    "# first we create a little vectorDB from all the webpages"
   ]
  },
  {
   "cell_type": "code",
   "execution_count": null,
   "id": "1afa5a05-15b9-4b0a-87c1-c20cfb11fdfc",
   "metadata": {},
   "outputs": [],
   "source": [
    "question = \"Do you have parking\"\n",
    "question"
   ]
  },
  {
   "cell_type": "code",
   "execution_count": null,
   "id": "7626adf0-9219-40a9-a3c7-b6df181aad1a",
   "metadata": {},
   "outputs": [],
   "source": [
    "df = pd.read_csv('webpage-text.csv')"
   ]
  },
  {
   "cell_type": "code",
   "execution_count": null,
   "id": "d883ebe5-dc34-4767-8461-709372d8ed3d",
   "metadata": {},
   "outputs": [],
   "source": [
    "def get_embedding(text, model=\"text-embedding-3-small\"):\n",
    "    text = text.replace(\"\\n\",\" \")\n",
    "    return client.embeddings.create(input = [text], model=model).data[0].embedding"
   ]
  },
  {
   "cell_type": "code",
   "execution_count": null,
   "id": "cfb0ba84-9495-47be-bbaa-048a6fa986b8",
   "metadata": {},
   "outputs": [],
   "source": [
    "get_embedding(df['text'].iloc[0]"
   ]
  },
  {
   "cell_type": "code",
   "execution_count": null,
   "id": "73fe4280-1e05-45b5-92d7-30273ea71ada",
   "metadata": {},
   "outputs": [],
   "source": [
    "%%time\n",
    "df['text'].head(5).apply(get_embedding)"
   ]
  },
  {
   "cell_type": "code",
   "execution_count": null,
   "id": "9ff0b5c8-152c-4884-bb4b-ff5811948ea0",
   "metadata": {},
   "outputs": [],
   "source": [
    "%%time"
   ]
  },
  {
   "cell_type": "code",
   "execution_count": null,
   "id": "6dd56865-8d69-464f-861c-70b5d397c9a5",
   "metadata": {},
   "outputs": [],
   "source": [
    "%%time\n",
    "df['embeddings'] = df['text'].apply(get_embedding)\n",
    "df.to_csv('./website-with-embeddings.csv',index=False)\n",
    "df.to_picke('./website-with-embeddings.pkl')"
   ]
  },
  {
   "cell_type": "code",
   "execution_count": null,
   "id": "38ed977d-ac5f-4c3d-b3bd-4115ff1ab30c",
   "metadata": {},
   "outputs": [],
   "source": [
    "%%time\n",
    "df.pd.read_pickle('./website-with-embeddings.pkl')\n",
    "df.head()"
   ]
  },
  {
   "cell_type": "code",
   "execution_count": null,
   "id": "9eee3d56-24ff-4393-84c2-6ad23d12ecc6",
   "metadata": {},
   "outputs": [],
   "source": [
    "question_embedding = get_embedding(question)\n",
    "question, question_embedding[0:10], \"...\""
   ]
  },
  {
   "cell_type": "code",
   "execution_count": null,
   "id": "b95106d7-dcf5-405e-a309-9cec4fe5a484",
   "metadata": {},
   "outputs": [],
   "source": [
    "def distance_calculations(page_embedding):\n",
    "        return np.dot(page_embedding, question_embedding)\n",
    "df['distance'] = df['embeddings'].apply(distance_calculations)\n",
    "df.head()"
   ]
  },
  {
   "cell_type": "code",
   "execution_count": null,
   "id": "f8564932-8109-4461-a1fb-0cf020812b4a",
   "metadata": {},
   "outputs": [],
   "source": [
    "context = df['text'].iloc[0] + \"\\n\" + df['text'].iloc[2] + \"\\n\" + df['text'].iloc[4] + \"\\n\"\n",
    "print(context)"
   ]
  },
  {
   "cell_type": "code",
   "execution_count": null,
   "id": "e2744dfa-043c-4998-9e3c-217d7a832449",
   "metadata": {},
   "outputs": [],
   "source": [
    "response = client.chat.completions.create(\n",
    "    model=\"gpt-3.5-turbo\",\n",
    "    messages=[\n",
    "        {\"role\": \"system\", \"content\": \"You are an assistante who is helping Khaata.in, a Saas product respond to seller questions. When you answer the question, use the first person (.e.g We) to refer to Khaata.\"},\n",
    "        {\"role\":\"user\",\"content\":question),\n",
    "        {\"role\", \"assistant\", \"content\": f\"Use this information from Khaata.in's website as context to answer the user question: {context}. Please stick to this context when answering the question.\")\n",
    "])"
   ]
  },
  {
   "cell_type": "code",
   "execution_count": null,
   "id": "79232c94-26ec-4cbf-800d-81af7e6076e3",
   "metadata": {},
   "outputs": [],
   "source": [
    "response.choices[0].message.content"
   ]
  },
  {
   "cell_type": "markdown",
   "id": "35fcf137-0b71-4755-bf9f-fb99e20da217",
   "metadata": {},
   "source": [
    "## Now making it repeatable"
   ]
  },
  {
   "cell_type": "code",
   "execution_count": null,
   "id": "42e3385c-5c13-4d4c-a436-787ecb8edc9a",
   "metadata": {},
   "outputs": [],
   "source": [
    "def query(question): \n",
    "    question_embedding = get_embedding(question)\n",
    "\n",
    "    def distance_calculations(page_embedding):\n",
    "        return np.dot(page_embedding, question_embedding)\n",
    "        \n",
    "    distance_series = df['embeddings'].apply(distance_calculations)\n",
    "    top_four = distance_series.sort_values(ascending=False).index[0:4]\n",
    "\n",
    "    text_series = df.loc[top_four].['text']\n",
    "    context = \"\\n\\n\".join(text_series)\n",
    "\n",
    "    response = client.chat.completions.create(\n",
    "        model=\"gpt-3.5-turbo\",\n",
    "        messages=[\n",
    "            {\"role\": \"system\", \"content\": \"You are an assistante who is helping Khaata.in, a Saas product respond to seller questions. When you answer the question, use the first person (.e.g We) to refer to Khaata.\"},\n",
    "            {\"role\":\"user\",\"content\":question),\n",
    "            {\"role\", \"assistant\", \"content\": f\"Use this information from Khaata.in's website as context to answer the user question: {context}. Please stick to this context when answering the question.\")\n",
    "    ])\n",
    "    \n",
    "    response.choices[0].message.content"
   ]
  },
  {
   "cell_type": "code",
   "execution_count": null,
   "id": "17cdcc0e-30b0-4b54-a963-af17fcde81f2",
   "metadata": {},
   "outputs": [],
   "source": [
    "query(\"do you have parking\")"
   ]
  },
  {
   "cell_type": "code",
   "execution_count": null,
   "id": "f1a54a3e-d70d-48c0-a14f-8b42dc54ffd3",
   "metadata": {},
   "outputs": [],
   "source": [
    "query(\"do you accept Medicare\")"
   ]
  }
 ],
 "metadata": {
  "kernelspec": {
   "display_name": "Python (cenv)",
   "language": "python",
   "name": "cenv"
  },
  "language_info": {
   "codemirror_mode": {
    "name": "ipython",
    "version": 3
   },
   "file_extension": ".py",
   "mimetype": "text/x-python",
   "name": "python",
   "nbconvert_exporter": "python",
   "pygments_lexer": "ipython3",
   "version": "3.12.8"
  }
 },
 "nbformat": 4,
 "nbformat_minor": 5
}
