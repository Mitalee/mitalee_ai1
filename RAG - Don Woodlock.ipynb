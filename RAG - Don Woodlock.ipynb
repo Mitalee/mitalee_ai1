{
 "cells": [
  {
   "cell_type": "markdown",
   "id": "4835387b-bf96-4281-8bc6-36eda3f84079",
   "metadata": {},
   "source": [
    "# https://www.youtube.com/watch?v=P8tOjiYEFqU"
   ]
  },
  {
   "cell_type": "markdown",
   "id": "d0e4db1b-6909-4eae-aeac-90fe1b70f48b",
   "metadata": {
    "jp-MarkdownHeadingCollapsed": true
   },
   "source": [
    "# Import the relevant libraries and load the API key"
   ]
  },
  {
   "cell_type": "code",
   "execution_count": 3,
   "id": "85fb0db8-1e75-490a-9b1c-35fb6fc8c5e6",
   "metadata": {},
   "outputs": [],
   "source": [
    "import pandas as pd\n",
    "from openai import OpenAI\n",
    "import os\n",
    "import ast\n",
    "import numpy as np\n",
    "import pdb"
   ]
  },
  {
   "cell_type": "code",
   "execution_count": 4,
   "id": "f76deaab-7c19-44e3-91ef-9f94034c472a",
   "metadata": {},
   "outputs": [
    {
     "data": {
      "text/plain": [
       "True"
      ]
     },
     "execution_count": 4,
     "metadata": {},
     "output_type": "execute_result"
    }
   ],
   "source": [
    "# Load the environment with the OpenAI API key\n",
    "from dotenv import load_dotenv\n",
    "\n",
    "# Load the environment variables\n",
    "load_dotenv()"
   ]
  },
  {
   "cell_type": "markdown",
   "id": "0a691d33-9e2d-4ef0-95b1-eace273cf88f",
   "metadata": {
    "jp-MarkdownHeadingCollapsed": true
   },
   "source": [
    "# Let's try a test call"
   ]
  },
  {
   "cell_type": "code",
   "execution_count": 5,
   "id": "d66d1543-b326-4a0e-aba3-ff65e27c6ae4",
   "metadata": {},
   "outputs": [],
   "source": [
    "client = OpenAI()"
   ]
  },
  {
   "cell_type": "code",
   "execution_count": 6,
   "id": "096bf323-468c-41ea-a34d-fa45914f86b4",
   "metadata": {},
   "outputs": [
    {
     "data": {
      "text/plain": [
       "\"What temperature do i set my house on Vacation so the pipes don't freeze\""
      ]
     },
     "execution_count": 6,
     "metadata": {},
     "output_type": "execute_result"
    }
   ],
   "source": [
    "question = \"What temperature do i set my house on Vacation so the pipes don't freeze\"\n",
    "question"
   ]
  },
  {
   "cell_type": "code",
   "execution_count": 8,
   "id": "c7728b72-57c2-4ecc-98d4-3f8f6c0d695e",
   "metadata": {},
   "outputs": [
    {
     "data": {
      "text/plain": [
       "ChatCompletion(id='chatcmpl-BY3R2V6KIrWTKwS4QXzM6RtG8DxKe', choices=[Choice(finish_reason='stop', index=0, logprobs=None, message=ChatCompletionMessage(content='It is recommended to set your thermostat to a minimum of 55 degrees Fahrenheit to prevent the pipes from freezing while you are on vacation. You may also want to consider shutting off the water supply to your house if you will be away for an extended period of time.', refusal=None, role='assistant', audio=None, function_call=None, tool_calls=None, annotations=[]))], created=1747456056, model='gpt-3.5-turbo-0125', object='chat.completion', service_tier='default', system_fingerprint=None, usage=CompletionUsage(completion_tokens=53, prompt_tokens=22, total_tokens=75, completion_tokens_details=CompletionTokensDetails(accepted_prediction_tokens=0, audio_tokens=0, reasoning_tokens=0, rejected_prediction_tokens=0), prompt_tokens_details=PromptTokensDetails(audio_tokens=0, cached_tokens=0)))"
      ]
     },
     "execution_count": 8,
     "metadata": {},
     "output_type": "execute_result"
    }
   ],
   "source": [
    "response = client.chat.completions.create(\n",
    "    model=\"gpt-3.5-turbo\",\n",
    "    messages=[\n",
    "        {\n",
    "            \"role\":\"user\",\n",
    "            \"content\":question\n",
    "        }\n",
    "    ]\n",
    ")\n",
    "response"
   ]
  },
  {
   "cell_type": "code",
   "execution_count": 9,
   "id": "38f83bf9-3f56-4f74-bb16-ae713adc5191",
   "metadata": {},
   "outputs": [
    {
     "data": {
      "text/plain": [
       "'It is recommended to set your thermostat to a minimum of 55 degrees Fahrenheit to prevent the pipes from freezing while you are on vacation. You may also want to consider shutting off the water supply to your house if you will be away for an extended period of time.'"
      ]
     },
     "execution_count": 9,
     "metadata": {},
     "output_type": "execute_result"
    }
   ],
   "source": [
    "response.choices[0].message.content"
   ]
  },
  {
   "cell_type": "markdown",
   "id": "fe769764-2f3c-47e8-a435-742fe1baafaf",
   "metadata": {
    "jp-MarkdownHeadingCollapsed": true
   },
   "source": [
    "# Let's scrape a website first"
   ]
  },
  {
   "cell_type": "code",
   "execution_count": 10,
   "id": "d1655c50-e0a6-4ad0-a6f1-f86f335eb7fd",
   "metadata": {},
   "outputs": [],
   "source": [
    "# Cell 1: Import additional libraries for scraping\n",
    "import requests\n",
    "from bs4 import BeautifulSoup\n",
    "from urllib.parse import urljoin, urlparse\n",
    "import time"
   ]
  },
  {
   "cell_type": "code",
   "execution_count": 11,
   "id": "c6e3f870-34a7-4fe2-92a7-d901a99e1a3e",
   "metadata": {},
   "outputs": [],
   "source": [
    "# Cell 2: Function to scrape a single page\n",
    "def scrape_page(url):\n",
    "    \"\"\"Scrape a single page and return its text content.\n",
    "    \n",
    "    Args:\n",
    "        url: URL to scrape\n",
    "        \n",
    "    Returns:\n",
    "        Dictionary with url and text content\n",
    "    \"\"\"\n",
    "    try:\n",
    "        print(f\"Scraping {url}\")\n",
    "        response = requests.get(url, headers={'User-Agent': 'RAG Scraper'}, timeout=10)\n",
    "        \n",
    "        if response.status_code != 200:\n",
    "            print(f\"Failed to fetch {url}: Status code {response.status_code}\")\n",
    "            return None\n",
    "        \n",
    "        # Parse HTML content\n",
    "        soup = BeautifulSoup(response.text, 'html.parser')\n",
    "        \n",
    "        # Remove scripts, styles, and other non-content elements\n",
    "        for tag in soup(['script', 'style', 'meta', 'noscript', 'header', 'footer', 'nav']):\n",
    "            tag.extract()\n",
    "        \n",
    "        # Extract text\n",
    "        text = soup.get_text(separator='\\n')\n",
    "        lines = (line.strip() for line in text.splitlines())\n",
    "        text = '\\n'.join(line for line in lines if line)\n",
    "        \n",
    "        return {\n",
    "            'url': url,\n",
    "            'text': text\n",
    "        }\n",
    "        \n",
    "    except Exception as e:\n",
    "        print(f\"Error scraping {url}: {str(e)}\")\n",
    "        return None"
   ]
  },
  {
   "cell_type": "code",
   "execution_count": 12,
   "id": "484d8047-8de2-42c6-8043-ead88c374176",
   "metadata": {},
   "outputs": [],
   "source": [
    "# Cell 3: Function to scrape multiple pages\n",
    "def scrape_website(start_url, max_pages=20):\n",
    "    \"\"\"Scrape website pages starting from a URL.\n",
    "    \n",
    "    Args:\n",
    "        start_url: Starting URL\n",
    "        max_pages: Maximum number of pages to scrape\n",
    "        \n",
    "    Returns:\n",
    "        List of dictionaries with url and text content\n",
    "    \"\"\"\n",
    "    base_domain = urlparse(start_url).netloc\n",
    "    visited_urls = set()\n",
    "    urls_to_visit = [start_url]\n",
    "    scraped_pages = []\n",
    "    \n",
    "    while urls_to_visit and len(scraped_pages) < max_pages:\n",
    "        # Get next URL to scrape\n",
    "        current_url = urls_to_visit.pop(0)\n",
    "        \n",
    "        if current_url in visited_urls:\n",
    "            continue\n",
    "            \n",
    "        visited_urls.add(current_url)\n",
    "        \n",
    "        # Scrape the page\n",
    "        page_data = scrape_page(current_url)\n",
    "        \n",
    "        if page_data:\n",
    "            scraped_pages.append(page_data)\n",
    "            \n",
    "            # Parse the page to find more links\n",
    "            try:\n",
    "                response = requests.get(current_url, headers={'User-Agent': 'RAG Scraper'}, timeout=10)\n",
    "                soup = BeautifulSoup(response.text, 'html.parser')\n",
    "                \n",
    "                for link in soup.find_all('a', href=True):\n",
    "                    href = link['href']\n",
    "                    full_url = urljoin(current_url, href)\n",
    "                    parsed_url = urlparse(full_url)\n",
    "                    \n",
    "                    # Only follow links to the same domain\n",
    "                    if parsed_url.netloc == base_domain and full_url not in visited_urls and full_url not in urls_to_visit:\n",
    "                        urls_to_visit.append(full_url)\n",
    "            except Exception as e:\n",
    "                print(f\"Error finding links on {current_url}: {str(e)}\")\n",
    "        \n",
    "        # Be polite, don't hammer the server\n",
    "        time.sleep(1)\n",
    "    \n",
    "    print(f\"Scraped {len(scraped_pages)} pages\")\n",
    "    return scraped_pages"
   ]
  },
  {
   "cell_type": "code",
   "execution_count": 13,
   "id": "4f89b7f7-51d9-45b1-ab47-59686fb95a83",
   "metadata": {},
   "outputs": [
    {
     "name": "stdout",
     "output_type": "stream",
     "text": [
      "Scraping https://khaata.in\n",
      "Scraping https://khaata.in/\n",
      "Scraping https://khaata.in/aboutus\n",
      "Scraping https://khaata.in/pricing\n",
      "Scraping https://khaata.in/blog\n",
      "Scraping https://khaata.in/faq\n",
      "Scraping https://khaata.in/login\n",
      "Scraping https://khaata.in/signup\n",
      "Scraping https://khaata.in/amazon-to-tally-with-khaata\n",
      "Scraping https://khaata.in/contact\n",
      "Scraping https://khaata.in/terms\n",
      "Scraping https://khaata.in/privacy\n",
      "Scraping https://khaata.in/signup?next=pricing\n",
      "Scraping https://khaata.in/blog#tab_1\n",
      "Scraping https://khaata.in/blog#tab_2\n",
      "Scraping https://khaata.in/blog/reconcile-your-amazon-sales-with-tally-erp9-with-a-button-click\n",
      "Scraping https://khaata.in/blog/tag/reconciliation\n",
      "Scraping https://khaata.in/blog/tag/tally-erp9\n",
      "Scraping https://khaata.in/blog/how-to-set-up-taxes-on-shopify-india-in-5-steps\n",
      "Scraping https://khaata.in/blog/tag/shopify\n",
      "Scraping https://khaata.in/blog/tag/taxes\n",
      "Scraping https://khaata.in/blog/tag/india\n",
      "Scraping https://khaata.in/blog/shopify-amazon-flipkart-sellers-how-khaata-can-help-you-save\n",
      "Scraping https://khaata.in/blog/mastering-gst-on-shipping-for-your-shopify-india-store\n",
      "Scraping https://khaata.in/blog/how-business-owners-smell-trouble-with-data\n",
      "Scraping https://khaata.in/blog/tag/small-business\n",
      "Scraping https://khaata.in/blog/tag/profitability\n",
      "Scraping https://khaata.in/blog/the-ultimate-guide-to-shopify-accounting-and-automation\n",
      "Scraping https://khaata.in/blog/tag/accounting\n",
      "Scraping https://khaata.in/blog/why-payment-reconciliation-is-critical-for-your-ecommerce-busine\n",
      "Scraped 30 pages\n",
      "Saved 30 pages to CSV\n"
     ]
    },
    {
     "data": {
      "text/html": [
       "<div>\n",
       "<style scoped>\n",
       "    .dataframe tbody tr th:only-of-type {\n",
       "        vertical-align: middle;\n",
       "    }\n",
       "\n",
       "    .dataframe tbody tr th {\n",
       "        vertical-align: top;\n",
       "    }\n",
       "\n",
       "    .dataframe thead th {\n",
       "        text-align: right;\n",
       "    }\n",
       "</style>\n",
       "<table border=\"1\" class=\"dataframe\">\n",
       "  <thead>\n",
       "    <tr style=\"text-align: right;\">\n",
       "      <th></th>\n",
       "      <th>url</th>\n",
       "      <th>text</th>\n",
       "    </tr>\n",
       "  </thead>\n",
       "  <tbody>\n",
       "    <tr>\n",
       "      <th>0</th>\n",
       "      <td>https://khaata.in</td>\n",
       "      <td>Make money\\nthis year\\n,\\nSell fast, Scale fas...</td>\n",
       "    </tr>\n",
       "    <tr>\n",
       "      <th>1</th>\n",
       "      <td>https://khaata.in/</td>\n",
       "      <td>Make money\\nthis year\\n,\\nSell fast, Scale fas...</td>\n",
       "    </tr>\n",
       "    <tr>\n",
       "      <th>2</th>\n",
       "      <td>https://khaata.in/aboutus</td>\n",
       "      <td>About us\\nKhaata is a fully DIY method of impo...</td>\n",
       "    </tr>\n",
       "    <tr>\n",
       "      <th>3</th>\n",
       "      <td>https://khaata.in/pricing</td>\n",
       "      <td>Pricing\\nFEATURES\\nNumber of transactions\\nCus...</td>\n",
       "    </tr>\n",
       "    <tr>\n",
       "      <th>4</th>\n",
       "      <td>https://khaata.in/blog</td>\n",
       "      <td>Blog\\nUnderstanding your transactions takes so...</td>\n",
       "    </tr>\n",
       "  </tbody>\n",
       "</table>\n",
       "</div>"
      ],
      "text/plain": [
       "                         url  \\\n",
       "0          https://khaata.in   \n",
       "1         https://khaata.in/   \n",
       "2  https://khaata.in/aboutus   \n",
       "3  https://khaata.in/pricing   \n",
       "4     https://khaata.in/blog   \n",
       "\n",
       "                                                text  \n",
       "0  Make money\\nthis year\\n,\\nSell fast, Scale fas...  \n",
       "1  Make money\\nthis year\\n,\\nSell fast, Scale fas...  \n",
       "2  About us\\nKhaata is a fully DIY method of impo...  \n",
       "3  Pricing\\nFEATURES\\nNumber of transactions\\nCus...  \n",
       "4  Blog\\nUnderstanding your transactions takes so...  "
      ]
     },
     "execution_count": 13,
     "metadata": {},
     "output_type": "execute_result"
    }
   ],
   "source": [
    "# Cell 4: Scrape website and save to DataFrame\n",
    "website_url = \"https://khaata.in\"  # Replace with your website URL\n",
    "scraped_data = scrape_website(website_url, max_pages=30)\n",
    "\n",
    "# Convert to DataFrame\n",
    "df = pd.DataFrame(scraped_data)\n",
    "\n",
    "# Save to CSV for backup\n",
    "df.to_csv('webpage-text.csv', index=False)\n",
    "print(f\"Saved {len(df)} pages to CSV\")\n",
    "\n",
    "# Show sample\n",
    "df.head()"
   ]
  },
  {
   "cell_type": "markdown",
   "id": "1d2aa9a9-75c2-4e00-9164-ae99d8d0376d",
   "metadata": {},
   "source": [
    "# Now we will add Retrieval Augmented Generation"
   ]
  },
  {
   "cell_type": "markdown",
   "id": "2d625530-a26a-439c-9ef8-c0dbf2ebf0fd",
   "metadata": {
    "jp-MarkdownHeadingCollapsed": true
   },
   "source": [
    "## First we create a little vectorDB from all the webpages"
   ]
  },
  {
   "cell_type": "code",
   "execution_count": 14,
   "id": "1afa5a05-15b9-4b0a-87c1-c20cfb11fdfc",
   "metadata": {},
   "outputs": [
    {
     "data": {
      "text/plain": [
       "'Do you have parking'"
      ]
     },
     "execution_count": 14,
     "metadata": {},
     "output_type": "execute_result"
    }
   ],
   "source": [
    "question = \"Do you have parking\"\n",
    "question"
   ]
  },
  {
   "cell_type": "code",
   "execution_count": 18,
   "id": "7626adf0-9219-40a9-a3c7-b6df181aad1a",
   "metadata": {},
   "outputs": [],
   "source": [
    "df = pd.read_csv('webpage-text.csv')"
   ]
  },
  {
   "cell_type": "code",
   "execution_count": 19,
   "id": "3af08951-ae4a-42c1-9ee3-5e4fad34b0d2",
   "metadata": {},
   "outputs": [
    {
     "data": {
      "text/html": [
       "<div>\n",
       "<style scoped>\n",
       "    .dataframe tbody tr th:only-of-type {\n",
       "        vertical-align: middle;\n",
       "    }\n",
       "\n",
       "    .dataframe tbody tr th {\n",
       "        vertical-align: top;\n",
       "    }\n",
       "\n",
       "    .dataframe thead th {\n",
       "        text-align: right;\n",
       "    }\n",
       "</style>\n",
       "<table border=\"1\" class=\"dataframe\">\n",
       "  <thead>\n",
       "    <tr style=\"text-align: right;\">\n",
       "      <th></th>\n",
       "      <th>url</th>\n",
       "      <th>text</th>\n",
       "    </tr>\n",
       "  </thead>\n",
       "  <tbody>\n",
       "    <tr>\n",
       "      <th>0</th>\n",
       "      <td>https://khaata.in</td>\n",
       "      <td>Make money\\nthis year\\n,\\nSell fast, Scale fas...</td>\n",
       "    </tr>\n",
       "    <tr>\n",
       "      <th>1</th>\n",
       "      <td>https://khaata.in/</td>\n",
       "      <td>Make money\\nthis year\\n,\\nSell fast, Scale fas...</td>\n",
       "    </tr>\n",
       "    <tr>\n",
       "      <th>2</th>\n",
       "      <td>https://khaata.in/aboutus</td>\n",
       "      <td>About us\\nKhaata is a fully DIY method of impo...</td>\n",
       "    </tr>\n",
       "    <tr>\n",
       "      <th>3</th>\n",
       "      <td>https://khaata.in/pricing</td>\n",
       "      <td>Pricing\\nFEATURES\\nNumber of transactions\\nCus...</td>\n",
       "    </tr>\n",
       "    <tr>\n",
       "      <th>4</th>\n",
       "      <td>https://khaata.in/blog</td>\n",
       "      <td>Blog\\nUnderstanding your transactions takes so...</td>\n",
       "    </tr>\n",
       "  </tbody>\n",
       "</table>\n",
       "</div>"
      ],
      "text/plain": [
       "                         url  \\\n",
       "0          https://khaata.in   \n",
       "1         https://khaata.in/   \n",
       "2  https://khaata.in/aboutus   \n",
       "3  https://khaata.in/pricing   \n",
       "4     https://khaata.in/blog   \n",
       "\n",
       "                                                text  \n",
       "0  Make money\\nthis year\\n,\\nSell fast, Scale fas...  \n",
       "1  Make money\\nthis year\\n,\\nSell fast, Scale fas...  \n",
       "2  About us\\nKhaata is a fully DIY method of impo...  \n",
       "3  Pricing\\nFEATURES\\nNumber of transactions\\nCus...  \n",
       "4  Blog\\nUnderstanding your transactions takes so...  "
      ]
     },
     "execution_count": 19,
     "metadata": {},
     "output_type": "execute_result"
    }
   ],
   "source": [
    "df.head()"
   ]
  },
  {
   "cell_type": "code",
   "execution_count": 20,
   "id": "45dd8371-cfc4-43cd-87e5-dbeb2291f66d",
   "metadata": {},
   "outputs": [
    {
     "data": {
      "text/plain": [
       "\"Make money\\nthis year\\n,\\nSell fast, Scale faster.\\nRequest Demo\\nLearn more\\nMake money\\nthis quarter\\n,\\nSell fast, Scale faster.\\nRequest Demo\\nLearn more\\nMake money\\ntoday.\\nSell fast, Scale faster.\\nRequest Demo\\nLearn more\\nWhy Khaata\\nKhaata is for everyone who sells products on daily basis and needs to keep track of sales\\nQuick & Easy\\nAt the click of a button, import all your sales and\\nforget about manual entry in Tally. Khaata imports\\nnearly 70-100 invoices per minute.\\nFlexible and DIY Accounting\\nNo typing or manual searching for importing your\\nsales data. Finetune it according to your\\nrequirement, import for a day, for a week or a\\nmonth. You can even import a single invoice.\\nSafe & Secure\\nData transfer is done in a fully encrypted, secure\\nand standardized technology, to ensure complete\\nbusiness privacy.\\nAll in One Solution\\nAll the entries would come with Taxes (CGST,\\nSGST, IGST), GSTIN Numbers (for B2B clients),\\nStock items and quantities sold or refunded,\\nShipping fees, Giftwrapping fees.\\nReports\\nWith our simplified but detailed reports analyze\\nyour data, calculate individual product\\nprofitability and beat the competition.\\nReconcile Feature\\nKhaata offers a reconciliation mechanism to make\\nsure your data is imported 100%, without errors\\nby comparing against the e-commerce\\nmark etplace’s data provided to the seller.\\nWe Work With\\nPartnering with us helps sellers understand their sales and refunds better and make rapid decisions about their stock items, pricing and advertising.\\nFlipkart\\nZomato\\nAmazon\\nTally\\nSwiggy\\nQuickbooks\\nPartner with us\\nFrom Our Blog\\nNew Reconciliation Report\\nTwo weeks ago, we unveiled  a new feature for\\ninstant reconciliation of all your sales orders.\\nSpecifically, you could check missing invoices,\\nexisting invoices, etc. on a day to day basis.\\nPhasellus Eros\\nCras augue mi, molestie et purus nec, vehicula\\nconsectetur elit. In hac habitasse ed condimentum\\nodio. Nunc vel luctus quam. Mauris odio nisl,\\ngravida muori cursus llnarcu\\nNunc Porttitorid Orci\\nnterdum convallis. Phasellus tristique at eros sed\\ntristique. Vestibulum sed condimentum odio. Nunc\\nvel luctus quam. Mauris odio nisl, gravida cursus\\narcu at\\nSee More\\nFrom Our Customers\\nKhaata helps me import my sales and\\nrefunds in under 12 minutes,\\nevery month.\\nSohel Bohra\\nBusiness Owner, Pune\\nAs a CA, I had many problems with refunds\\nand credit notes. The Khaata team worked\\nwith me to resolve all my Amazon\\naccounting needs.\\nSanjeev Ranjan\\nChartered Accountant, New Delhi\\nWe have fully integrated Khaata\\nin our GST filing workflow. We are able\\nto reconcile and file GST within an hour.\\nNow we're waiting for their net margins feature!\\nVishwajeet Dangat\\nBusiness Owner, Pune\\nPartial Refunds have been an issue\\nfor us because of our items. The Khaata team\\ncustomized it for us\\nKiran M\\nBusiness Owner, Hyderabad\\nWe needed batch number and expiry date in our\\ninvoices in Tally. Khaata was the only tool\\nable to help us with our custom needs.\\nVishal C\\nEcommerce manager, Mumbai\""
      ]
     },
     "execution_count": 20,
     "metadata": {},
     "output_type": "execute_result"
    }
   ],
   "source": [
    "df['text'].iloc[0]"
   ]
  },
  {
   "cell_type": "code",
   "execution_count": 16,
   "id": "d883ebe5-dc34-4767-8461-709372d8ed3d",
   "metadata": {},
   "outputs": [],
   "source": [
    "def get_embedding(text, model=\"text-embedding-3-small\"):\n",
    "    text = text.replace(\"\\n\",\" \")\n",
    "    return client.embeddings.create(input = [text], model=model).data[0].embedding"
   ]
  },
  {
   "cell_type": "code",
   "execution_count": 23,
   "id": "cfb0ba84-9495-47be-bbaa-048a6fa986b8",
   "metadata": {},
   "outputs": [
    {
     "data": {
      "text/plain": [
       "[-0.006002134643495083,\n",
       " 0.01511026918888092,\n",
       " 0.030332466587424278,\n",
       " 0.0006715675117447972,\n",
       " 0.041245438158512115,\n",
       " -0.03299075365066528,\n",
       " -0.03265497088432312,\n",
       " 0.03318662941455841,\n",
       " 0.007744012866169214,\n",
       " 0.018328197300434113]"
      ]
     },
     "execution_count": 23,
     "metadata": {},
     "output_type": "execute_result"
    }
   ],
   "source": [
    "get_embedding(df['text'].iloc[0])[:10]"
   ]
  },
  {
   "cell_type": "code",
   "execution_count": 24,
   "id": "73fe4280-1e05-45b5-92d7-30273ea71ada",
   "metadata": {},
   "outputs": [
    {
     "name": "stdout",
     "output_type": "stream",
     "text": [
      "CPU times: user 32.1 ms, sys: 6.47 ms, total: 38.6 ms\n",
      "Wall time: 6.24 s\n"
     ]
    },
    {
     "data": {
      "text/plain": [
       "0    [-0.006002134643495083, 0.01511026918888092, 0...\n",
       "1    [-0.006002134643495083, 0.01511026918888092, 0...\n",
       "2    [-0.016955994069576263, 0.005278302822262049, ...\n",
       "3    [-0.044205717742443085, -0.014394300058484077,...\n",
       "4    [-0.01580938883125782, 0.01787036843597889, -0...\n",
       "Name: text, dtype: object"
      ]
     },
     "execution_count": 24,
     "metadata": {},
     "output_type": "execute_result"
    }
   ],
   "source": [
    "%%time\n",
    "df['text'].head(5).apply(get_embedding)"
   ]
  },
  {
   "cell_type": "code",
   "execution_count": 27,
   "id": "6dd56865-8d69-464f-861c-70b5d397c9a5",
   "metadata": {},
   "outputs": [
    {
     "name": "stdout",
     "output_type": "stream",
     "text": [
      "CPU times: user 208 ms, sys: 24.1 ms, total: 232 ms\n",
      "Wall time: 19.7 s\n"
     ]
    }
   ],
   "source": [
    "%%time\n",
    "### CPU times: user 208 ms, sys: 24.1 ms, total: 232 ms\n",
    "### Wall time: 19.7 s\n",
    "df['embeddings'] = df['text'].apply(get_embedding)\n",
    "df.to_csv('./website-with-embeddings.csv',index=False)\n",
    "df.to_pickle('./website-with-embeddings.pkl')"
   ]
  },
  {
   "cell_type": "code",
   "execution_count": 29,
   "id": "38ed977d-ac5f-4c3d-b3bd-4115ff1ab30c",
   "metadata": {},
   "outputs": [
    {
     "name": "stdout",
     "output_type": "stream",
     "text": [
      "CPU times: user 5.06 ms, sys: 6.33 ms, total: 11.4 ms\n",
      "Wall time: 10.2 ms\n"
     ]
    },
    {
     "data": {
      "text/html": [
       "<div>\n",
       "<style scoped>\n",
       "    .dataframe tbody tr th:only-of-type {\n",
       "        vertical-align: middle;\n",
       "    }\n",
       "\n",
       "    .dataframe tbody tr th {\n",
       "        vertical-align: top;\n",
       "    }\n",
       "\n",
       "    .dataframe thead th {\n",
       "        text-align: right;\n",
       "    }\n",
       "</style>\n",
       "<table border=\"1\" class=\"dataframe\">\n",
       "  <thead>\n",
       "    <tr style=\"text-align: right;\">\n",
       "      <th></th>\n",
       "      <th>url</th>\n",
       "      <th>text</th>\n",
       "      <th>embeddings</th>\n",
       "    </tr>\n",
       "  </thead>\n",
       "  <tbody>\n",
       "    <tr>\n",
       "      <th>0</th>\n",
       "      <td>https://khaata.in</td>\n",
       "      <td>Make money\\nthis year\\n,\\nSell fast, Scale fas...</td>\n",
       "      <td>[-0.00600174767896533, 0.015109295025467873, 0...</td>\n",
       "    </tr>\n",
       "    <tr>\n",
       "      <th>1</th>\n",
       "      <td>https://khaata.in/</td>\n",
       "      <td>Make money\\nthis year\\n,\\nSell fast, Scale fas...</td>\n",
       "      <td>[-0.006002134643495083, 0.01511026918888092, 0...</td>\n",
       "    </tr>\n",
       "    <tr>\n",
       "      <th>2</th>\n",
       "      <td>https://khaata.in/aboutus</td>\n",
       "      <td>About us\\nKhaata is a fully DIY method of impo...</td>\n",
       "      <td>[-0.016955994069576263, 0.005278302822262049, ...</td>\n",
       "    </tr>\n",
       "    <tr>\n",
       "      <th>3</th>\n",
       "      <td>https://khaata.in/pricing</td>\n",
       "      <td>Pricing\\nFEATURES\\nNumber of transactions\\nCus...</td>\n",
       "      <td>[-0.044205717742443085, -0.014394300058484077,...</td>\n",
       "    </tr>\n",
       "    <tr>\n",
       "      <th>4</th>\n",
       "      <td>https://khaata.in/blog</td>\n",
       "      <td>Blog\\nUnderstanding your transactions takes so...</td>\n",
       "      <td>[-0.015834180638194084, 0.017869455739855766, ...</td>\n",
       "    </tr>\n",
       "  </tbody>\n",
       "</table>\n",
       "</div>"
      ],
      "text/plain": [
       "                         url  \\\n",
       "0          https://khaata.in   \n",
       "1         https://khaata.in/   \n",
       "2  https://khaata.in/aboutus   \n",
       "3  https://khaata.in/pricing   \n",
       "4     https://khaata.in/blog   \n",
       "\n",
       "                                                text  \\\n",
       "0  Make money\\nthis year\\n,\\nSell fast, Scale fas...   \n",
       "1  Make money\\nthis year\\n,\\nSell fast, Scale fas...   \n",
       "2  About us\\nKhaata is a fully DIY method of impo...   \n",
       "3  Pricing\\nFEATURES\\nNumber of transactions\\nCus...   \n",
       "4  Blog\\nUnderstanding your transactions takes so...   \n",
       "\n",
       "                                          embeddings  \n",
       "0  [-0.00600174767896533, 0.015109295025467873, 0...  \n",
       "1  [-0.006002134643495083, 0.01511026918888092, 0...  \n",
       "2  [-0.016955994069576263, 0.005278302822262049, ...  \n",
       "3  [-0.044205717742443085, -0.014394300058484077,...  \n",
       "4  [-0.015834180638194084, 0.017869455739855766, ...  "
      ]
     },
     "execution_count": 29,
     "metadata": {},
     "output_type": "execute_result"
    }
   ],
   "source": [
    "%%time\n",
    "df= pd.read_pickle('./website-with-embeddings.pkl')\n",
    "df.head()"
   ]
  },
  {
   "cell_type": "markdown",
   "id": "a3ce9c99-78b4-4be2-b921-fb2148151523",
   "metadata": {
    "jp-MarkdownHeadingCollapsed": true
   },
   "source": [
    "# Second, let's ask a random question to see how relevance in RETRIEVAL works"
   ]
  },
  {
   "cell_type": "code",
   "execution_count": 30,
   "id": "9eee3d56-24ff-4393-84c2-6ad23d12ecc6",
   "metadata": {},
   "outputs": [
    {
     "data": {
      "text/plain": [
       "('Do you have parking',\n",
       " [-0.008038237690925598,\n",
       "  -0.04131556302309036,\n",
       "  0.03025338426232338,\n",
       "  -0.002770782448351383,\n",
       "  -0.010014624334871769,\n",
       "  -0.037153277546167374,\n",
       "  0.016774844378232956,\n",
       "  0.0029523586854338646,\n",
       "  -0.032823383808135986,\n",
       "  -0.02894044853746891],\n",
       " '...')"
      ]
     },
     "execution_count": 30,
     "metadata": {},
     "output_type": "execute_result"
    }
   ],
   "source": [
    "question_embedding = get_embedding(question)\n",
    "question, question_embedding[0:10], \"...\""
   ]
  },
  {
   "cell_type": "code",
   "execution_count": 34,
   "id": "b95106d7-dcf5-405e-a309-9cec4fe5a484",
   "metadata": {},
   "outputs": [
    {
     "data": {
      "text/html": [
       "<div>\n",
       "<style scoped>\n",
       "    .dataframe tbody tr th:only-of-type {\n",
       "        vertical-align: middle;\n",
       "    }\n",
       "\n",
       "    .dataframe tbody tr th {\n",
       "        vertical-align: top;\n",
       "    }\n",
       "\n",
       "    .dataframe thead th {\n",
       "        text-align: right;\n",
       "    }\n",
       "</style>\n",
       "<table border=\"1\" class=\"dataframe\">\n",
       "  <thead>\n",
       "    <tr style=\"text-align: right;\">\n",
       "      <th></th>\n",
       "      <th>url</th>\n",
       "      <th>text</th>\n",
       "      <th>embeddings</th>\n",
       "      <th>distance</th>\n",
       "    </tr>\n",
       "  </thead>\n",
       "  <tbody>\n",
       "    <tr>\n",
       "      <th>0</th>\n",
       "      <td>https://khaata.in</td>\n",
       "      <td>Make money\\nthis year\\n,\\nSell fast, Scale fas...</td>\n",
       "      <td>[-0.00600174767896533, 0.015109295025467873, 0...</td>\n",
       "      <td>0.138259</td>\n",
       "    </tr>\n",
       "    <tr>\n",
       "      <th>1</th>\n",
       "      <td>https://khaata.in/</td>\n",
       "      <td>Make money\\nthis year\\n,\\nSell fast, Scale fas...</td>\n",
       "      <td>[-0.006002134643495083, 0.01511026918888092, 0...</td>\n",
       "      <td>0.138275</td>\n",
       "    </tr>\n",
       "    <tr>\n",
       "      <th>2</th>\n",
       "      <td>https://khaata.in/aboutus</td>\n",
       "      <td>About us\\nKhaata is a fully DIY method of impo...</td>\n",
       "      <td>[-0.016955994069576263, 0.005278302822262049, ...</td>\n",
       "      <td>0.107997</td>\n",
       "    </tr>\n",
       "    <tr>\n",
       "      <th>3</th>\n",
       "      <td>https://khaata.in/pricing</td>\n",
       "      <td>Pricing\\nFEATURES\\nNumber of transactions\\nCus...</td>\n",
       "      <td>[-0.044205717742443085, -0.014394300058484077,...</td>\n",
       "      <td>0.149240</td>\n",
       "    </tr>\n",
       "    <tr>\n",
       "      <th>4</th>\n",
       "      <td>https://khaata.in/blog</td>\n",
       "      <td>Blog\\nUnderstanding your transactions takes so...</td>\n",
       "      <td>[-0.015834180638194084, 0.017869455739855766, ...</td>\n",
       "      <td>0.145421</td>\n",
       "    </tr>\n",
       "  </tbody>\n",
       "</table>\n",
       "</div>"
      ],
      "text/plain": [
       "                         url  \\\n",
       "0          https://khaata.in   \n",
       "1         https://khaata.in/   \n",
       "2  https://khaata.in/aboutus   \n",
       "3  https://khaata.in/pricing   \n",
       "4     https://khaata.in/blog   \n",
       "\n",
       "                                                text  \\\n",
       "0  Make money\\nthis year\\n,\\nSell fast, Scale fas...   \n",
       "1  Make money\\nthis year\\n,\\nSell fast, Scale fas...   \n",
       "2  About us\\nKhaata is a fully DIY method of impo...   \n",
       "3  Pricing\\nFEATURES\\nNumber of transactions\\nCus...   \n",
       "4  Blog\\nUnderstanding your transactions takes so...   \n",
       "\n",
       "                                          embeddings  distance  \n",
       "0  [-0.00600174767896533, 0.015109295025467873, 0...  0.138259  \n",
       "1  [-0.006002134643495083, 0.01511026918888092, 0...  0.138275  \n",
       "2  [-0.016955994069576263, 0.005278302822262049, ...  0.107997  \n",
       "3  [-0.044205717742443085, -0.014394300058484077,...  0.149240  \n",
       "4  [-0.015834180638194084, 0.017869455739855766, ...  0.145421  "
      ]
     },
     "execution_count": 34,
     "metadata": {},
     "output_type": "execute_result"
    }
   ],
   "source": [
    "# Get the nearest embeddings to the question_embedding\n",
    "def distance_calculations(page_embedding):\n",
    "        return np.dot(page_embedding, question_embedding)\n",
    "df['distance'] = df['embeddings'].apply(distance_calculations)\n",
    "df.head()"
   ]
  },
  {
   "cell_type": "markdown",
   "id": "332eedfb-4384-4f2f-b1ea-6d37d66eacf3",
   "metadata": {},
   "source": [
    "# Third, let's try a relevant question for better distance/relevance"
   ]
  },
  {
   "cell_type": "code",
   "execution_count": 36,
   "id": "74b74b98-d1e6-4fd8-932a-51eb15199682",
   "metadata": {},
   "outputs": [],
   "source": [
    "relevant_question = \"How do I account for my sales in Tally\""
   ]
  },
  {
   "cell_type": "code",
   "execution_count": 37,
   "id": "e9afd34b-0ba7-47ac-aa3b-f3a929643d7b",
   "metadata": {},
   "outputs": [
    {
     "data": {
      "text/plain": [
       "('Do you have parking',\n",
       " [0.017627380788326263,\n",
       "  -0.0197730865329504,\n",
       "  0.06643539667129517,\n",
       "  -0.01072852872312069,\n",
       "  -0.023548441007733345,\n",
       "  -0.03883999213576317,\n",
       "  0.00656952615827322,\n",
       "  0.019229870289564133,\n",
       "  0.0008067616145126522,\n",
       "  0.03883999213576317],\n",
       " '...')"
      ]
     },
     "execution_count": 37,
     "metadata": {},
     "output_type": "execute_result"
    }
   ],
   "source": [
    "question_embedding = get_embedding(relevant_question)\n",
    "question, question_embedding[0:10], \"...\""
   ]
  },
  {
   "cell_type": "code",
   "execution_count": 38,
   "id": "bbc9cbcd-fab3-4204-90f5-a58cb2ed9366",
   "metadata": {},
   "outputs": [
    {
     "data": {
      "text/html": [
       "<div>\n",
       "<style scoped>\n",
       "    .dataframe tbody tr th:only-of-type {\n",
       "        vertical-align: middle;\n",
       "    }\n",
       "\n",
       "    .dataframe tbody tr th {\n",
       "        vertical-align: top;\n",
       "    }\n",
       "\n",
       "    .dataframe thead th {\n",
       "        text-align: right;\n",
       "    }\n",
       "</style>\n",
       "<table border=\"1\" class=\"dataframe\">\n",
       "  <thead>\n",
       "    <tr style=\"text-align: right;\">\n",
       "      <th></th>\n",
       "      <th>url</th>\n",
       "      <th>text</th>\n",
       "      <th>embeddings</th>\n",
       "      <th>distance</th>\n",
       "    </tr>\n",
       "  </thead>\n",
       "  <tbody>\n",
       "    <tr>\n",
       "      <th>0</th>\n",
       "      <td>https://khaata.in</td>\n",
       "      <td>Make money\\nthis year\\n,\\nSell fast, Scale fas...</td>\n",
       "      <td>[-0.00600174767896533, 0.015109295025467873, 0...</td>\n",
       "      <td>0.522758</td>\n",
       "    </tr>\n",
       "    <tr>\n",
       "      <th>1</th>\n",
       "      <td>https://khaata.in/</td>\n",
       "      <td>Make money\\nthis year\\n,\\nSell fast, Scale fas...</td>\n",
       "      <td>[-0.006002134643495083, 0.01511026918888092, 0...</td>\n",
       "      <td>0.522744</td>\n",
       "    </tr>\n",
       "    <tr>\n",
       "      <th>2</th>\n",
       "      <td>https://khaata.in/aboutus</td>\n",
       "      <td>About us\\nKhaata is a fully DIY method of impo...</td>\n",
       "      <td>[-0.016955994069576263, 0.005278302822262049, ...</td>\n",
       "      <td>0.514002</td>\n",
       "    </tr>\n",
       "    <tr>\n",
       "      <th>3</th>\n",
       "      <td>https://khaata.in/pricing</td>\n",
       "      <td>Pricing\\nFEATURES\\nNumber of transactions\\nCus...</td>\n",
       "      <td>[-0.044205717742443085, -0.014394300058484077,...</td>\n",
       "      <td>0.558641</td>\n",
       "    </tr>\n",
       "    <tr>\n",
       "      <th>4</th>\n",
       "      <td>https://khaata.in/blog</td>\n",
       "      <td>Blog\\nUnderstanding your transactions takes so...</td>\n",
       "      <td>[-0.015834180638194084, 0.017869455739855766, ...</td>\n",
       "      <td>0.451883</td>\n",
       "    </tr>\n",
       "  </tbody>\n",
       "</table>\n",
       "</div>"
      ],
      "text/plain": [
       "                         url  \\\n",
       "0          https://khaata.in   \n",
       "1         https://khaata.in/   \n",
       "2  https://khaata.in/aboutus   \n",
       "3  https://khaata.in/pricing   \n",
       "4     https://khaata.in/blog   \n",
       "\n",
       "                                                text  \\\n",
       "0  Make money\\nthis year\\n,\\nSell fast, Scale fas...   \n",
       "1  Make money\\nthis year\\n,\\nSell fast, Scale fas...   \n",
       "2  About us\\nKhaata is a fully DIY method of impo...   \n",
       "3  Pricing\\nFEATURES\\nNumber of transactions\\nCus...   \n",
       "4  Blog\\nUnderstanding your transactions takes so...   \n",
       "\n",
       "                                          embeddings  distance  \n",
       "0  [-0.00600174767896533, 0.015109295025467873, 0...  0.522758  \n",
       "1  [-0.006002134643495083, 0.01511026918888092, 0...  0.522744  \n",
       "2  [-0.016955994069576263, 0.005278302822262049, ...  0.514002  \n",
       "3  [-0.044205717742443085, -0.014394300058484077,...  0.558641  \n",
       "4  [-0.015834180638194084, 0.017869455739855766, ...  0.451883  "
      ]
     },
     "execution_count": 38,
     "metadata": {},
     "output_type": "execute_result"
    }
   ],
   "source": [
    "# Get the nearest embeddings to the question_embedding\n",
    "def distance_calculations(page_embedding):\n",
    "        return np.dot(page_embedding, question_embedding)\n",
    "df['distance'] = df['embeddings'].apply(distance_calculations)\n",
    "df.head()"
   ]
  },
  {
   "cell_type": "code",
   "execution_count": 39,
   "id": "f8564932-8109-4461-a1fb-0cf020812b4a",
   "metadata": {},
   "outputs": [
    {
     "name": "stdout",
     "output_type": "stream",
     "text": [
      "Make money\n",
      "this year\n",
      ",\n",
      "Sell fast, Scale faster.\n",
      "Request Demo\n",
      "Learn more\n",
      "Make money\n",
      "this quarter\n",
      ",\n",
      "Sell fast, Scale faster.\n",
      "Request Demo\n",
      "Learn more\n",
      "Make money\n",
      "today.\n",
      "Sell fast, Scale faster.\n",
      "Request Demo\n",
      "Learn more\n",
      "Why Khaata\n",
      "Khaata is for everyone who sells products on daily basis and needs to keep track of sales\n",
      "Quick & Easy\n",
      "At the click of a button, import all your sales and\n",
      "forget about manual entry in Tally. Khaata imports\n",
      "nearly 70-100 invoices per minute.\n",
      "Flexible and DIY Accounting\n",
      "No typing or manual searching for importing your\n",
      "sales data. Finetune it according to your\n",
      "requirement, import for a day, for a week or a\n",
      "month. You can even import a single invoice.\n",
      "Safe & Secure\n",
      "Data transfer is done in a fully encrypted, secure\n",
      "and standardized technology, to ensure complete\n",
      "business privacy.\n",
      "All in One Solution\n",
      "All the entries would come with Taxes (CGST,\n",
      "SGST, IGST), GSTIN Numbers (for B2B clients),\n",
      "Stock items and quantities sold or refunded,\n",
      "Shipping fees, Giftwrapping fees.\n",
      "Reports\n",
      "With our simplified but detailed reports analyze\n",
      "your data, calculate individual product\n",
      "profitability and beat the competition.\n",
      "Reconcile Feature\n",
      "Khaata offers a reconciliation mechanism to make\n",
      "sure your data is imported 100%, without errors\n",
      "by comparing against the e-commerce\n",
      "mark etplace’s data provided to the seller.\n",
      "We Work With\n",
      "Partnering with us helps sellers understand their sales and refunds better and make rapid decisions about their stock items, pricing and advertising.\n",
      "Flipkart\n",
      "Zomato\n",
      "Amazon\n",
      "Tally\n",
      "Swiggy\n",
      "Quickbooks\n",
      "Partner with us\n",
      "From Our Blog\n",
      "New Reconciliation Report\n",
      "Two weeks ago, we unveiled  a new feature for\n",
      "instant reconciliation of all your sales orders.\n",
      "Specifically, you could check missing invoices,\n",
      "existing invoices, etc. on a day to day basis.\n",
      "Phasellus Eros\n",
      "Cras augue mi, molestie et purus nec, vehicula\n",
      "consectetur elit. In hac habitasse ed condimentum\n",
      "odio. Nunc vel luctus quam. Mauris odio nisl,\n",
      "gravida muori cursus llnarcu\n",
      "Nunc Porttitorid Orci\n",
      "nterdum convallis. Phasellus tristique at eros sed\n",
      "tristique. Vestibulum sed condimentum odio. Nunc\n",
      "vel luctus quam. Mauris odio nisl, gravida cursus\n",
      "arcu at\n",
      "See More\n",
      "From Our Customers\n",
      "Khaata helps me import my sales and\n",
      "refunds in under 12 minutes,\n",
      "every month.\n",
      "Sohel Bohra\n",
      "Business Owner, Pune\n",
      "As a CA, I had many problems with refunds\n",
      "and credit notes. The Khaata team worked\n",
      "with me to resolve all my Amazon\n",
      "accounting needs.\n",
      "Sanjeev Ranjan\n",
      "Chartered Accountant, New Delhi\n",
      "We have fully integrated Khaata\n",
      "in our GST filing workflow. We are able\n",
      "to reconcile and file GST within an hour.\n",
      "Now we're waiting for their net margins feature!\n",
      "Vishwajeet Dangat\n",
      "Business Owner, Pune\n",
      "Partial Refunds have been an issue\n",
      "for us because of our items. The Khaata team\n",
      "customized it for us\n",
      "Kiran M\n",
      "Business Owner, Hyderabad\n",
      "We needed batch number and expiry date in our\n",
      "invoices in Tally. Khaata was the only tool\n",
      "able to help us with our custom needs.\n",
      "Vishal C\n",
      "Ecommerce manager, Mumbai\n",
      "About us\n",
      "Khaata is a fully DIY method of importing all your Amazon data into Tally.\n",
      "The need for Khaata arose when existing solutions weren't able to get\n",
      "data\n",
      "into Tally accurately or were causing grief during the import process.\n",
      "Khaata is designed to be simple, and the goal is for anyone to login,\n",
      "connect,\n",
      "and import at the click of a button.\n",
      "Any business owner or accountant can use this and press a few simple\n",
      "buttons to\n",
      "do a batch import of sales and refunds. Khaata's accountant add-on can transfer 70 vouchers per\n",
      "minute\n",
      "into Tally.\n",
      "A back-of-the-envelope calculation estimates that for a business with\n",
      "2000\n",
      "orders per month from Amazon, a fully GST-compliant sales import will reduce approximately 2.5\n",
      "weeks of\n",
      "manual accounting labour.\n",
      "If you are a founder, your book-keepers will thank you! And if you're the\n",
      "accountant for your company, move on to doing something more!\n",
      "We do our best in order to maintain 100% import accuracy. Please contact us if\n",
      "you would like to set up a personal demo, totally free of cost.\n",
      "OUR TEAM\n",
      "Investor, Advisor\n",
      "Mitalee Mulpuru\n",
      "Mitalee is an experienced Finance professional with a\n",
      "total of 12 years experience in equity and debt financing as well as technology\n",
      "development. She has been experimenting with Tally in order to explore the best analytics\n",
      "out of accounting data.\n",
      "Mitalee is a graduate of the Indian School of Business, Hyderabad, where she specialized in\n",
      "Finance and Operations.\n",
      "Sales & Finance\n",
      "Jayprakash  Yadav\n",
      "Jayprakash a.k.a Jay has been working as an accountant and Tally setup advisor with khaata.in from our Mumbai office and\n",
      "has been a part of the industry for more than 5 years, he also manages his own accounting firm which possesses a\n",
      "team proficient in their areas of expertise such as accounting and taxation.\n",
      "Blog\n",
      "Understanding your transactions takes so much effort! You need atleast these 3 things - an accounting tool, a book-keeper, and time! While you may have a good accounting tool and a good book-keeper, time is always of essence in a changing business.\n",
      "Would you want to be nimble and fast to respond? Have data stored in your head versus rely on an external system? Whatever you choose, this blog will help make you the decisions that are right for propelling your business forward. Sell fast, but scale much faster.\n",
      "Popularity\n",
      "Latest\n",
      "Reconcile your Amazon sales with Tally ERP9 with a button click\n",
      "reconciliation\n",
      "tally-erp9\n",
      "Heres some great news for everyone wanting to understand if they missed out on any of their Amazon sales or refunds!\n",
      "Two weeks ago, we unveiled a new featurefor instantsales reconciliation in tally. Specifically:\n",
      "You can check if all your.......\n",
      "How to Set up Taxes on Shopify India in 5 Steps\n",
      "shopify\n",
      "taxes\n",
      "india\n",
      "Theres quite a degree of heartburn in setting up tax rates for India on Shopify because the wordings (shared vocabulary) are not the same as when Shopify was started (in Canada). Since Shopify was not originally set up for India-based taxation, th.......\n",
      "Shopify, Amazon, Flipkart Sellers: How Khaata Can Help You Save\n",
      "shopify\n",
      "The e-commerce landscape is a land of opportunity. With a global reach and a constantly evolving customer base, its a market ripe for growth. However, scaling a business can be daunting for sellers on platforms like Shopify, Amazon, and Flipkart. .......\n",
      "Mastering GST on Shipping for Your Shopify India Store\n",
      "shopify\n",
      "Running a successful Shopify store in India requires navigating the intricacies of GST (Goods and Services Tax). One crucial aspect is ensuring accurate GST application on shipping costs. This article will guide you through the process of managing.......\n",
      "How business owners smell trouble with data\n",
      "small-business\n",
      "profitability\n",
      "When I joined my first e-commerce job in Gurgaon, I saw a lone man sitting in front of a really large computer, furiously typing away at a light green screen. He seemed to be deep at work, poring through numbers and efficiently moving between scre.......\n",
      "The Ultimate Guide To Shopify Accounting And Automation\n",
      "shopify\n",
      "accounting\n",
      "If youre running a Shopify store, chances are youre always looking for ways to streamline your accounting and automate your business processes. After all, who has time to keep track of sales tax and inventory levels when theres so much else to do?.......\n",
      "Why Payment reconciliation is critical for your e-commerce business\n",
      "payment-reconciliation\n",
      "inventory\n",
      "For most sellers, listing inventory on marketplaces itself is a big task. Whether youre a trader or manufacturer, inventory keeps changing and you should have done atleast the basic of these following actions:\n",
      "done up the SKU listing really .......\n",
      "eCommerce Marketplace Integration and its Benefits\n",
      "tips\n",
      "ecommerce\n",
      "online-sellers\n",
      "Introduction\n",
      "In the eCommerce world, its no secret that marketplaces are a big deal. Theyre becoming increasingly popular to reach new customers and drive sales. While there are many different marketplaces, one of the most popular is Amazon. Am.......\n",
      "Payment Reconciliation: How It Works & How to Automate\n",
      "accounting\n",
      "tips\n",
      "The payment reconciliation process is creating a set of accounting records that summarize, reconcile, and balance the payments made on a companys debtors. Payment reconciliation is often used monthly to determine a companys financial health.\n",
      ".......\n",
      "Accounting for Online Sellers\n",
      "accounting\n",
      "online_sellers\n",
      "tips\n",
      "If youre an online seller on Amazon, you would be generating sales and refunds every month. You could also be generating business via B2B (business-to-business) versus B2C (business-to-customer) sales  the difference between these two business cat.......\n",
      "Shopify, Amazon, Flipkart Sellers: How Khaata Can Help You Save\n",
      "shopify\n",
      "The e-commerce landscape is a land of opportunity. With a global reach and a constantly evolving customer base, its a market ripe for growth. However, scaling a business can be daunting for sellers on platforms like Shopify, Amazon, and Flipkart. .......\n",
      "Mastering GST on Shipping for Your Shopify India Store\n",
      "shopify\n",
      "Running a successful Shopify store in India requires navigating the intricacies of GST (Goods and Services Tax). One crucial aspect is ensuring accurate GST application on shipping costs. This article will guide you through the process of managing.......\n",
      "Why Payment reconciliation is critical for your e-commerce business\n",
      "payment-reconciliation\n",
      "inventory\n",
      "For most sellers, listing inventory on marketplaces itself is a big task. Whether youre a trader or manufacturer, inventory keeps changing and you should have done atleast the basic of these following actions:\n",
      "done up the SKU listing really .......\n",
      "How business owners smell trouble with data\n",
      "small-business\n",
      "profitability\n",
      "When I joined my first e-commerce job in Gurgaon, I saw a lone man sitting in front of a really large computer, furiously typing away at a light green screen. He seemed to be deep at work, poring through numbers and efficiently moving between scre.......\n",
      "eCommerce Marketplace Integration and its Benefits\n",
      "tips\n",
      "ecommerce\n",
      "online-sellers\n",
      "Introduction\n",
      "In the eCommerce world, its no secret that marketplaces are a big deal. Theyre becoming increasingly popular to reach new customers and drive sales. While there are many different marketplaces, one of the most popular is Amazon. Am.......\n",
      "Payment Reconciliation: How It Works & How to Automate\n",
      "accounting\n",
      "tips\n",
      "The payment reconciliation process is creating a set of accounting records that summarize, reconcile, and balance the payments made on a companys debtors. Payment reconciliation is often used monthly to determine a companys financial health.\n",
      ".......\n",
      "Accounting for Online Sellers\n",
      "accounting\n",
      "online_sellers\n",
      "tips\n",
      "If youre an online seller on Amazon, you would be generating sales and refunds every month. You could also be generating business via B2B (business-to-business) versus B2C (business-to-customer) sales  the difference between these two business cat.......\n",
      "The Ultimate Guide To Shopify Accounting And Automation\n",
      "shopify\n",
      "accounting\n",
      "If youre running a Shopify store, chances are youre always looking for ways to streamline your accounting and automate your business processes. After all, who has time to keep track of sales tax and inventory levels when theres so much else to do?.......\n",
      "How to Set up Taxes on Shopify India in 5 Steps\n",
      "shopify\n",
      "taxes\n",
      "india\n",
      "Theres quite a degree of heartburn in setting up tax rates for India on Shopify because the wordings (shared vocabulary) are not the same as when Shopify was started (in Canada). Since Shopify was not originally set up for India-based taxation, th.......\n",
      "Reconcile your Amazon sales with Tally ERP9 with a button click\n",
      "reconciliation\n",
      "tally-erp9\n",
      "Heres some great news for everyone wanting to understand if they missed out on any of their Amazon sales or refunds!\n",
      "Two weeks ago, we unveiled a new featurefor instantsales reconciliation in tally. Specifically:\n",
      "You can check if all your.......\n",
      "Shopify, Amazon, Flipkart Sellers: How Khaata Can Help You Save\n",
      "05/17/2025\n",
      "3\n",
      "The e-commerce landscape is a land of opportunity. With a global reach and a constantly evolving customer base, its a market ripe for growth. However, scaling a business can be daunting for sellers on...\n",
      "Read more\n",
      "Tags:\n",
      "shopify\n",
      "Mastering GST on Shipping for Your Shopify India Store\n",
      "05/17/2025\n",
      "1\n",
      "Running a successful Shopify store in India requires navigating the intricacies of GST (Goods and Services Tax). One crucial aspect is ensuring accurate GST application on shipping costs. This article...\n",
      "Read more\n",
      "Tags:\n",
      "shopify\n",
      "Why Payment reconciliation is critical for your e-commerce business\n",
      "05/17/2025\n",
      "0\n",
      "For most sellers, listing inventory on marketplaces itself is a big task. Whether youre a trader or manufacturer, inventory keeps changing and you should have done atleast the basic of these following...\n",
      "Read more\n",
      "Tags:\n",
      "payment-reconciliation\n",
      "inventory\n",
      "How business owners smell trouble with data\n",
      "05/17/2025\n",
      "1\n",
      "When I joined my first e-commerce job in Gurgaon, I saw a lone man sitting in front of a really large computer, furiously typing away at a light green screen. He seemed to be deep at work, poring thro...\n",
      "Read more\n",
      "Tags:\n",
      "small-business\n",
      "profitability\n",
      "eCommerce Marketplace Integration and its Benefits\n",
      "05/17/2025\n",
      "0\n",
      "Introduction\n",
      "In the eCommerce world, its no secret that marketplaces are a big deal. Theyre becoming increasingly popular to reach new customers and drive sales. While there are many different mark...\n",
      "Read more\n",
      "Tags:\n",
      "tips\n",
      "ecommerce\n",
      "online-sellers\n",
      "Payment Reconciliation: How It Works & How to Automate\n",
      "05/17/2025\n",
      "0\n",
      "The payment reconciliation process is creating a set of accounting records that summarize, reconcile, and balance the payments made on a companys debtors. Payment reconciliation is often used monthly ...\n",
      "Read more\n",
      "Tags:\n",
      "accounting\n",
      "tips\n",
      "Accounting for Online Sellers\n",
      "05/17/2025\n",
      "0\n",
      "If youre an online seller on Amazon, you would be generating sales and refunds every month. You could also be generating business via B2B (business-to-business) versus B2C (business-to-customer) sales...\n",
      "Read more\n",
      "Tags:\n",
      "accounting\n",
      "online_sellers\n",
      "tips\n",
      "The Ultimate Guide To Shopify Accounting And Automation\n",
      "05/17/2025\n",
      "1\n",
      "If youre running a Shopify store, chances are youre always looking for ways to streamline your accounting and automate your business processes. After all, who has time to keep track of sales tax and i...\n",
      "Read more\n",
      "Tags:\n",
      "shopify\n",
      "accounting\n",
      "How to Set up Taxes on Shopify India in 5 Steps\n",
      "05/17/2025\n",
      "9\n",
      "Theres quite a degree of heartburn in setting up tax rates for India on Shopify because the wordings (shared vocabulary) are not the same as when Shopify was started (in Canada). Since Shopify was not...\n",
      "Read more\n",
      "Tags:\n",
      "shopify\n",
      "taxes\n",
      "india\n",
      "Reconcile your Amazon sales with Tally ERP9 with a button click\n",
      "05/17/2025\n",
      "27\n",
      "Heres some great news for everyone wanting to understand if they missed out on any of their Amazon sales or refunds!\n",
      "Two weeks ago, we unveiled a new featurefor instantsales reconciliation in tally...\n",
      "Read more\n",
      "Tags:\n",
      "reconciliation\n",
      "tally-erp9\n",
      "\n"
     ]
    }
   ],
   "source": [
    "context = df['text'].iloc[0] + \"\\n\" + df['text'].iloc[2] + \"\\n\" + df['text'].iloc[4] + \"\\n\"\n",
    "print(context)"
   ]
  },
  {
   "cell_type": "code",
   "execution_count": 44,
   "id": "e2744dfa-043c-4998-9e3c-217d7a832449",
   "metadata": {},
   "outputs": [],
   "source": [
    "response = client.chat.completions.create(\n",
    "    model=\"gpt-3.5-turbo\",\n",
    "    messages=[\n",
    "        {\"role\": \"system\", \"content\": \"You are an assistant who is helping Khaata.in, a SaaS product respond to seller questions. When you answer the question, use the first person (e.g. We) to refer to Khaata.\"},\n",
    "        {\"role\": \"user\", \"content\": relevant_question},\n",
    "        {\"role\": \"assistant\", \"content\": f\"Use this information from Khaata.in website as context to answer the user question: {context}. Please stick to this context when answering the question.\"}\n",
    "    ]\n",
    ")"
   ]
  },
  {
   "cell_type": "code",
   "execution_count": 45,
   "id": "79232c94-26ec-4cbf-800d-81af7e6076e3",
   "metadata": {},
   "outputs": [
    {
     "data": {
      "text/plain": [
       "\"To account for your sales in Tally using Khaata:\\n\\n1. At the click of a button, import all your sales data from Khaata into Tally. Khaata can import nearly 70-100 invoices per minute, making the process quick and easy.\\n2. Ensure that all the entries imported from Khaata into Tally include details such as Taxes (CGST, SGST, IGST), GSTIN Numbers for B2B clients, stock items and quantities sold or refunded, shipping fees, and gift wrapping fees.\\n3. Utilize the reconciliation feature offered by Khaata to ensure that your data is imported accurately without errors by comparing it against the e-commerce marketplace's data provided to the seller.\\n4. Take advantage of the detailed reports provided by Khaata to analyze your sales data, calculate individual product profitability, and make informed decisions to enhance your business performance.\\n5. Customize your sales import in Tally according to your specific requirements, whether you need to import data for a day, a week, a month, or even a single invoice, ensuring flexibility and ease of use.\\n\\nBy following these steps and utilizing Khaata's features, you can efficiently account for your sales in Tally, saving time and streamlining your accounting process.\""
      ]
     },
     "execution_count": 45,
     "metadata": {},
     "output_type": "execute_result"
    }
   ],
   "source": [
    "response.choices[0].message.content"
   ]
  },
  {
   "cell_type": "markdown",
   "id": "35fcf137-0b71-4755-bf9f-fb99e20da217",
   "metadata": {},
   "source": [
    "# Now making it repeatable"
   ]
  },
  {
   "cell_type": "code",
   "execution_count": 53,
   "id": "42e3385c-5c13-4d4c-a436-787ecb8edc9a",
   "metadata": {},
   "outputs": [],
   "source": [
    "def query(question): \n",
    "    question_embedding = get_embedding(question)\n",
    "\n",
    "    def distance_calculations(page_embedding):\n",
    "        return np.dot(page_embedding, question_embedding)\n",
    "        \n",
    "    distance_series = df['embeddings'].apply(distance_calculations)\n",
    "    top_four = distance_series.sort_values(ascending=False).index[0:4]\n",
    "\n",
    "    text_series = df.loc[top_four]['text']\n",
    "    context = \"\\n\\n\".join(text_series)\n",
    "\n",
    "    response = client.chat.completions.create(\n",
    "        model=\"gpt-3.5-turbo\",\n",
    "        messages=[\n",
    "            {\"role\": \"system\", \"content\": \"You are an assistante who is helping Khaata.in, a Saas product respond to seller questions. When you answer the question, use the first person (.e.g We) to refer to Khaata.\"},\n",
    "            {\"role\":\"user\",\"content\":question},\n",
    "            {\"role\": \"assistant\", \"content\": f\"Use this information from Khaata.in's website as context to answer the user question: {context}. Please stick to this context when answering the question.\"}\n",
    "    ])\n",
    "    \n",
    "    print(response.choices[0].message.content)"
   ]
  },
  {
   "cell_type": "code",
   "execution_count": 54,
   "id": "17cdcc0e-30b0-4b54-a963-af17fcde81f2",
   "metadata": {},
   "outputs": [
    {
     "name": "stdout",
     "output_type": "stream",
     "text": [
      "We have developed a feature that allows you to reconcile your Amazon sales with Tally ERP9 with just a click of a button. This feature enables you to check if all your Amazon sales and refunds have been imported into Tally accurately. Tally ERP9 will indicate if any specific invoices need to be imported, and a detailed log will be available as a text file for reconciliation. You can perform this reconciliation on a per-day or per-month basis for your convenience. If you would like to learn more or try out this feature, please contact us for further assistance.\n"
     ]
    }
   ],
   "source": [
    "query(\"How do I import my sales in Tally\")"
   ]
  },
  {
   "cell_type": "code",
   "execution_count": 55,
   "id": "f1a54a3e-d70d-48c0-a14f-8b42dc54ffd3",
   "metadata": {},
   "outputs": [
    {
     "name": "stdout",
     "output_type": "stream",
     "text": [
      "We can help you account for Amazon sales by seamlessly integrating your transactions in Tally ERP9. With our feature for instant sales reconciliation, you can quickly and accurately track all your Amazon sales and refunds in Tally. This feature allows you to check if all your Amazon sales and refunds are imported into Tally, identify any missing invoices, and reconcile them effortlessly. Feel free to reach out to us for a demo or further assistance in setting up your Amazon accounting efficiently and cost-effectively.\n"
     ]
    }
   ],
   "source": [
    "query(\"How do we account for amazon sales\")"
   ]
  }
 ],
 "metadata": {
  "kernelspec": {
   "display_name": "Python (cenv)",
   "language": "python",
   "name": "cenv"
  },
  "language_info": {
   "codemirror_mode": {
    "name": "ipython",
    "version": 3
   },
   "file_extension": ".py",
   "mimetype": "text/x-python",
   "name": "python",
   "nbconvert_exporter": "python",
   "pygments_lexer": "ipython3",
   "version": "3.12.8"
  }
 },
 "nbformat": 4,
 "nbformat_minor": 5
}
